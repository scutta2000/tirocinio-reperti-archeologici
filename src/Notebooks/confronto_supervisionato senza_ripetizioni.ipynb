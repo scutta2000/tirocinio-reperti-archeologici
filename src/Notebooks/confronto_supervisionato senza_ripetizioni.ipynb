{
 "metadata": {
  "language_info": {
   "codemirror_mode": {
    "name": "ipython",
    "version": 3
   },
   "file_extension": ".py",
   "mimetype": "text/x-python",
   "name": "python",
   "nbconvert_exporter": "python",
   "pygments_lexer": "ipython3",
   "version": "3.7.4"
  },
  "orig_nbformat": 2,
  "kernelspec": {
   "name": "python374jvsc74a57bd05422cffb4c9852eefca9f6ec987c142160de325641fe4514e5ed8a9ac7dbe8e9",
   "display_name": "Python 3.7.4 64-bit ('base': conda)"
  }
 },
 "nbformat": 4,
 "nbformat_minor": 2,
 "cells": [
  {
   "cell_type": "code",
   "execution_count": 1,
   "metadata": {},
   "outputs": [],
   "source": [
    "import sys; sys.path.insert(0, '..')"
   ]
  },
  {
   "cell_type": "code",
   "execution_count": 2,
   "metadata": {},
   "outputs": [],
   "source": [
    "import matplotlib.pyplot as plt\n",
    "import numpy as np\n",
    "from joblib import dump, load\n",
    "from matplotlib.colors import ListedColormap\n",
    "import pandas as  pd\n",
    "from sklearn.discriminant_analysis import QuadraticDiscriminantAnalysis\n",
    "from sklearn.ensemble import RandomForestClassifier\n",
    "from sklearn.gaussian_process.kernels import RBF\n",
    "from sklearn.metrics import accuracy_score, confusion_matrix, make_scorer\n",
    "from sklearn.model_selection import (GridSearchCV, cross_validate,\n",
    "                                     train_test_split)\n",
    "from sklearn.naive_bayes import GaussianNB\n",
    "from sklearn.neighbors import KNeighborsClassifier\n",
    "from sklearn.neural_network import MLPClassifier\n",
    "from sklearn.preprocessing import StandardScaler\n",
    "from sklearn.svm import SVC\n",
    "from sklearn.tree import DecisionTreeClassifier\n",
    "from tqdm import tqdm\n",
    "\n",
    "from scripts.get_data import ceramiche_no_ripetizioni_DB"
   ]
  },
  {
   "cell_type": "code",
   "execution_count": 3,
   "metadata": {},
   "outputs": [],
   "source": [
    "classifiers = {\n",
    "    \"Neural net\": (\n",
    "                MLPClassifier(),\n",
    "                {\n",
    "                    'hidden_layer_sizes': list(range(2,30)),\n",
    "                    'activation': ['identity', 'logistic', 'tanh', 'relu'],\n",
    "                }\n",
    "            ),\n",
    "\n",
    "\n",
    "    \"Nearest Neighbors\": (\n",
    "                    KNeighborsClassifier(),\n",
    "                    {'n_neighbors': list(range(1,11)), 'weights': ['uniform', 'distance']}\n",
    "                ),\n",
    "    \"SVC\": (\n",
    "                    SVC(),\n",
    "                    [{\n",
    "                        'kernel': ['linear', 'rbf', 'sigmoid'],\n",
    "                        'C': [x/10 for x in range(1, 11)],\n",
    "                    },\n",
    "                    {\n",
    "                        'kernel': ['poly'],\n",
    "                        'degree': list(range(2,6)),\n",
    "                        'C': [x/10 for x in range(1, 11)],\n",
    "                    }]\n",
    "                ),\n",
    "    \"Decision Tree\": (\n",
    "                    DecisionTreeClassifier(),\n",
    "                    {\n",
    "                        'criterion': ['gini', 'entropy'], \n",
    "                        'min_samples_split':list(range(2,11)),\n",
    "                        'min_samples_leaf': list(range(1,6)),\n",
    "                    }\n",
    "                ),\n",
    "    \"Random Forest\": (\n",
    "                    RandomForestClassifier(n_jobs=-1),\n",
    "                    {\n",
    "                        'n_estimators': list(range(1, 101, 10)), \n",
    "                        'criterion': ['gini', 'entropy'], \n",
    "                        'min_samples_split':list(range(2, 11)),\n",
    "                        'min_samples_leaf': list(range(1, 6)),\n",
    "                        'oob_score': [True, False],\n",
    "                    }\n",
    "                ),\n",
    "    \"Naive Bayes\": (\n",
    "                    GaussianNB(),\n",
    "                    {}\n",
    "                ),\n",
    "\n",
    "    # \"Gaussian Process\": GaussianProcessClassifier(1.0 * RBF(1.0)),\n",
    "    # \"AdaBoost\": AdaBoostClassifier(),\n",
    "    # \"QDA\": QuadraticDiscriminantAnalysis(),\n",
    "}"
   ]
  },
  {
   "cell_type": "code",
   "execution_count": 4,
   "metadata": {},
   "outputs": [],
   "source": [
    "def sensibility(y_true, y_predict):\n",
    "    c_matrix = confusion_matrix(y_true, y_predict)\n",
    "    return c_matrix[1][1]/sum(c_matrix[1])\n",
    "\n",
    "\n",
    "def specificity(y_true, y_predict):\n",
    "    c_matrix = confusion_matrix(y_true, y_predict)\n",
    "    return c_matrix[0][0]/sum(c_matrix[0])\n",
    "\n",
    "\n",
    "scorers = {\n",
    "    'sensibility' : make_scorer(sensibility, greater_is_better=True),\n",
    "    'specificity' : make_scorer(specificity, greater_is_better=True),\n",
    "    'accuracy' : make_scorer(accuracy_score, greater_is_better=True)\n",
    "}"
   ]
  },
  {
   "source": [
    "# NESTED CROSS VALIDATION\n",
    "X, y = ceramiche_no_ripetizioni_DB()\n",
    "X_train, X_test, y_train, y_test = train_test_split(X, y)\n",
    "file_name = '../scripts/supervised_no_repetitions_NCV_dump.joblib'\n",
    "\n",
    "#Se voi eseguire di nuovo la computazione invcece che caricare quella cachata cambia questa variabile\n",
    "NEW_COMPUTATION = False\n",
    "\n",
    "if NEW_COMPUTATION:\n",
    "    result = {}\n",
    "\n",
    "    import warnings\n",
    "    with warnings.catch_warnings():\n",
    "        warnings.simplefilter(\"ignore\")\n",
    "\n",
    "        for name, (clf, params) in tqdm(classifiers.items()):\n",
    "            grid = GridSearchCV(clf, params, scoring='accuracy', cv = 5, n_jobs = -1)\n",
    "            s = cross_validate(grid, X, y, cv=5, scoring = scorers, return_estimator=True)\n",
    "            result[name] = s\n",
    "else:\n",
    "    result = load(file_name)\n"
   ],
   "cell_type": "markdown",
   "metadata": {}
  },
  {
   "source": [
    "# TEST CON LE RIPETIZIONI\n",
    "\n",
    "X_train, X_test, y_train, y_test = ceramiche_no_ripetizioni_DB(ripetizioni=True)\n",
    "file_name = '../scripts/supervised_no_repetitions_repet_dump.joblib'\n",
    "\n",
    "#Se voi eseguire di nuovo la computazione invcece che caricare quella cachata cambia questa variabile\n",
    "NEW_COMPUTATION = False\n",
    "\n",
    "if NEW_COMPUTATION:\n",
    "    result = {}\n",
    "\n",
    "    import warnings\n",
    "    with warnings.catch_warnings():\n",
    "        warnings.simplefilter(\"ignore\")\n",
    "\n",
    "        for name, (clf, params) in tqdm(classifiers.items()):\n",
    "            grid = GridSearchCV(clf, params, scoring='accuracy', cv = 5, n_jobs = -1).fit(X_train, y_train)\n",
    "\n",
    "            result[name] = dict(\n",
    "                    [('test_' + scorer_name,\n",
    "                     s(grid, X_test, y_test))\n",
    "                    for scorer_name, s in scorers.items()]\n",
    "                )\n",
    "            result[name]['estimator'] = (grid,) #dentro una tupla per essere uguale al dizionario generato da cross_validate\n",
    "else:\n",
    "    result = load(file_name)\n",
    "\n"
   ],
   "cell_type": "code",
   "metadata": {},
   "execution_count": 5,
   "outputs": []
  },
  {
   "cell_type": "code",
   "execution_count": 6,
   "metadata": {},
   "outputs": [
    {
     "output_type": "stream",
     "name": "stdout",
     "text": [
      "NEURAL NET\n",
      "                mean       std\n",
      "      sens       1.0       0.0\n",
      "      spec      0.95       0.0\n",
      "      accu    0.9851       0.0\n",
      "\n",
      "\n",
      "NEAREST NEIGHBORS\n",
      "                mean       std\n",
      "      sens    0.9787       0.0\n",
      "      spec       1.0       0.0\n",
      "      accu    0.9851       0.0\n",
      "\n",
      "\n",
      "SVC\n",
      "                mean       std\n",
      "      sens       1.0       0.0\n",
      "      spec      0.95       0.0\n",
      "      accu    0.9851       0.0\n",
      "\n",
      "\n",
      "DECISION TREE\n",
      "                mean       std\n",
      "      sens    0.8085       0.0\n",
      "      spec      0.95       0.0\n",
      "      accu    0.8507       0.0\n",
      "\n",
      "\n",
      "RANDOM FOREST\n",
      "                mean       std\n",
      "      sens       1.0       0.0\n",
      "      spec       1.0       0.0\n",
      "      accu       1.0       0.0\n",
      "\n",
      "\n",
      "NAIVE BAYES\n",
      "                mean       std\n",
      "      sens    0.9787       0.0\n",
      "      spec       1.0       0.0\n",
      "      accu    0.9851       0.0\n",
      "\n",
      "\n"
     ]
    }
   ],
   "source": [
    "rows = ['sensibility', 'specificity', 'accuracy']\n",
    "columns = ['mean', 'std']\n",
    "\n",
    "row_format =\"{:>10.4}\" * (len(columns) + 1)\n",
    "col_format =\"{:>10.4}\" * (len(columns) + 1)\n",
    "\n",
    "for n, r in result.items():\n",
    "    print(n.upper())\n",
    "\n",
    "    #NB se si usa il test con le ripetizioni avremmo sempre std = 0\n",
    "    data = [(r[\"test_\"+x].mean(), r[\"test_\"+x].std()) for x in rows]\n",
    "\n",
    "    print(col_format.format(\"\", *columns))\n",
    "    for name, row in zip(rows, data):\n",
    "        print(row_format.format(name, *row))\n",
    "\n",
    "    print()\n",
    "    print()\n"
   ]
  },
  {
   "cell_type": "code",
   "execution_count": 7,
   "metadata": {},
   "outputs": [
    {
     "output_type": "execute_result",
     "data": {
      "text/plain": [
       "['../scripts/supervised_no_repetitions_repet_dump.joblib']"
      ]
     },
     "metadata": {},
     "execution_count": 7
    }
   ],
   "source": [
    "#Rimuovere il commento per salvare i nuovi modelli\n",
    "dump(result, file_name)"
   ]
  },
  {
   "cell_type": "code",
   "execution_count": 13,
   "metadata": {},
   "outputs": [
    {
     "output_type": "execute_result",
     "data": {
      "text/plain": [
       "       chiusi          K         Ca        Ti        Cr        Mn         Fe  \\\n",
       "1      A10_25  12.858469  69.126564  1.152565  0.180259  0.491615  15.944721   \n",
       "2          _1  13.485708  68.796399  1.034664  0.163676  0.473490  15.806395   \n",
       "3      c3-738  18.771078  57.095643  2.016727  0.283286  0.438419  21.071091   \n",
       "4          _a  18.945925  56.942268  2.096395  0.032654  0.248171  21.421108   \n",
       "5     c30-110  17.638601  42.115252  3.490913  0.586611  1.207729  34.679089   \n",
       "6          _a  18.940317  44.753785  2.566556  0.461110  0.974421  32.060205   \n",
       "7      c203-1  11.775384  58.549010  2.652535  0.368896  0.784635  25.547488   \n",
       "8        _bis  12.011662  58.518950  2.553936  0.338192  0.705539  25.551020   \n",
       "9           a  14.353377  56.733937  2.127952  0.219660  0.658979  25.617792   \n",
       "10       _bis  16.088906  55.124077  2.146871  0.214687  0.669319  25.453053   \n",
       "11  c281-60_1  11.752975  67.719524  1.633966  0.263750  0.469604  17.967192   \n",
       "12         _2  14.349628  65.135864  1.822488  0.217120  0.480295  17.764327   \n",
       "\n",
       "          Zn        Rb        Sr  \n",
       "1   0.043699  0.032774  0.169334  \n",
       "2   0.046764  0.035073  0.157830  \n",
       "3   0.087684  0.053959  0.182113  \n",
       "4   0.078370  0.058777  0.176332  \n",
       "5   0.103520  0.063262  0.115022  \n",
       "6   0.078302  0.060901  0.104402  \n",
       "7   0.070266  0.064410  0.187376  \n",
       "8   0.069971  0.064140  0.186589  \n",
       "9   0.054915  0.054915  0.178473  \n",
       "10  0.063143  0.063143  0.176801  \n",
       "11  0.038598  0.032165  0.122226  \n",
       "12  0.046056  0.046056  0.138167  "
      ],
      "text/html": "<div>\n<style scoped>\n    .dataframe tbody tr th:only-of-type {\n        vertical-align: middle;\n    }\n\n    .dataframe tbody tr th {\n        vertical-align: top;\n    }\n\n    .dataframe thead th {\n        text-align: right;\n    }\n</style>\n<table border=\"1\" class=\"dataframe\">\n  <thead>\n    <tr style=\"text-align: right;\">\n      <th></th>\n      <th>chiusi</th>\n      <th>K</th>\n      <th>Ca</th>\n      <th>Ti</th>\n      <th>Cr</th>\n      <th>Mn</th>\n      <th>Fe</th>\n      <th>Zn</th>\n      <th>Rb</th>\n      <th>Sr</th>\n    </tr>\n  </thead>\n  <tbody>\n    <tr>\n      <td>1</td>\n      <td>A10_25</td>\n      <td>12.858469</td>\n      <td>69.126564</td>\n      <td>1.152565</td>\n      <td>0.180259</td>\n      <td>0.491615</td>\n      <td>15.944721</td>\n      <td>0.043699</td>\n      <td>0.032774</td>\n      <td>0.169334</td>\n    </tr>\n    <tr>\n      <td>2</td>\n      <td>_1</td>\n      <td>13.485708</td>\n      <td>68.796399</td>\n      <td>1.034664</td>\n      <td>0.163676</td>\n      <td>0.473490</td>\n      <td>15.806395</td>\n      <td>0.046764</td>\n      <td>0.035073</td>\n      <td>0.157830</td>\n    </tr>\n    <tr>\n      <td>3</td>\n      <td>c3-738</td>\n      <td>18.771078</td>\n      <td>57.095643</td>\n      <td>2.016727</td>\n      <td>0.283286</td>\n      <td>0.438419</td>\n      <td>21.071091</td>\n      <td>0.087684</td>\n      <td>0.053959</td>\n      <td>0.182113</td>\n    </tr>\n    <tr>\n      <td>4</td>\n      <td>_a</td>\n      <td>18.945925</td>\n      <td>56.942268</td>\n      <td>2.096395</td>\n      <td>0.032654</td>\n      <td>0.248171</td>\n      <td>21.421108</td>\n      <td>0.078370</td>\n      <td>0.058777</td>\n      <td>0.176332</td>\n    </tr>\n    <tr>\n      <td>5</td>\n      <td>c30-110</td>\n      <td>17.638601</td>\n      <td>42.115252</td>\n      <td>3.490913</td>\n      <td>0.586611</td>\n      <td>1.207729</td>\n      <td>34.679089</td>\n      <td>0.103520</td>\n      <td>0.063262</td>\n      <td>0.115022</td>\n    </tr>\n    <tr>\n      <td>6</td>\n      <td>_a</td>\n      <td>18.940317</td>\n      <td>44.753785</td>\n      <td>2.566556</td>\n      <td>0.461110</td>\n      <td>0.974421</td>\n      <td>32.060205</td>\n      <td>0.078302</td>\n      <td>0.060901</td>\n      <td>0.104402</td>\n    </tr>\n    <tr>\n      <td>7</td>\n      <td>c203-1</td>\n      <td>11.775384</td>\n      <td>58.549010</td>\n      <td>2.652535</td>\n      <td>0.368896</td>\n      <td>0.784635</td>\n      <td>25.547488</td>\n      <td>0.070266</td>\n      <td>0.064410</td>\n      <td>0.187376</td>\n    </tr>\n    <tr>\n      <td>8</td>\n      <td>_bis</td>\n      <td>12.011662</td>\n      <td>58.518950</td>\n      <td>2.553936</td>\n      <td>0.338192</td>\n      <td>0.705539</td>\n      <td>25.551020</td>\n      <td>0.069971</td>\n      <td>0.064140</td>\n      <td>0.186589</td>\n    </tr>\n    <tr>\n      <td>9</td>\n      <td>a</td>\n      <td>14.353377</td>\n      <td>56.733937</td>\n      <td>2.127952</td>\n      <td>0.219660</td>\n      <td>0.658979</td>\n      <td>25.617792</td>\n      <td>0.054915</td>\n      <td>0.054915</td>\n      <td>0.178473</td>\n    </tr>\n    <tr>\n      <td>10</td>\n      <td>_bis</td>\n      <td>16.088906</td>\n      <td>55.124077</td>\n      <td>2.146871</td>\n      <td>0.214687</td>\n      <td>0.669319</td>\n      <td>25.453053</td>\n      <td>0.063143</td>\n      <td>0.063143</td>\n      <td>0.176801</td>\n    </tr>\n    <tr>\n      <td>11</td>\n      <td>c281-60_1</td>\n      <td>11.752975</td>\n      <td>67.719524</td>\n      <td>1.633966</td>\n      <td>0.263750</td>\n      <td>0.469604</td>\n      <td>17.967192</td>\n      <td>0.038598</td>\n      <td>0.032165</td>\n      <td>0.122226</td>\n    </tr>\n    <tr>\n      <td>12</td>\n      <td>_2</td>\n      <td>14.349628</td>\n      <td>65.135864</td>\n      <td>1.822488</td>\n      <td>0.217120</td>\n      <td>0.480295</td>\n      <td>17.764327</td>\n      <td>0.046056</td>\n      <td>0.046056</td>\n      <td>0.138167</td>\n    </tr>\n  </tbody>\n</table>\n</div>"
     },
     "metadata": {},
     "execution_count": 13
    }
   ],
   "source": [
    "pd.read_excel('../dati_ceramiche_classi_no_ripetizioni.xlsx', index_col=0, usecols=[\n",
    "    0, 1, 2, 3, 4, 5, 6, 7, 8, 9, 10], sheet_name=4)"
   ]
  },
  {
   "cell_type": "code",
   "execution_count": 14,
   "metadata": {},
   "outputs": [],
   "source": [
    "tarquina_singolo = pd.read_excel('../dati_ceramiche_classi_no_ripetizioni.xlsx', index_col=0, usecols=[\n",
    "    0, 1, 2, 3, 4, 5, 6, 7, 8, 9, 10], sheet_name=4)\n",
    "\n",
    "non_tarquina_singolo = pd.read_excel('../dati_ceramiche_classi_no_ripetizioni.xlsx', index_col=0, usecols=[\n",
    "    0, 1, 2, 3, 4, 5, 6, 7, 8, 9, 10], sheet_name=5)\n",
    "\n",
    "X_singolo = pd.concat([tarquina_singolo, non_tarquina_singolo])\n",
    "y_singolo = [1]*len(tarquina_singolo) + \\\n",
    "    [0] * len(non_tarquina_singolo)\n",
    "\n",
    "for name, r in result.items():\n",
    "    X_singolo[name] = r['estimator'][0].predict([a[1] for a in X_singolo.iloc[:,1:10].iterrows()])\n",
    "\n",
    "X_singolo['y reale'] = y_singolo\n",
    "\n",
    "X_singolo.to_excel('kasdgf.xlsx')"
   ]
  },
  {
   "cell_type": "code",
   "execution_count": 20,
   "metadata": {},
   "outputs": [
    {
     "output_type": "stream",
     "name": "stdout",
     "text": [
      "Accuracy:\n",
      "\n",
      "Neural net 0.875\n",
      "Nearest Neighbors 0.875\n",
      "SVC 0.875\n",
      "Decision Tree 0.75\n",
      "Random Forest 1.0\n",
      "Naive Bayes 0.9375\n"
     ]
    }
   ],
   "source": [
    "# Valotazione con i singoli come test\n",
    "X_singolo = pd.concat([tarquina_singolo, non_tarquina_singolo])\n",
    "print('Accuracy:\\n')\n",
    "for name, r in result.items():\n",
    "    print(name, accuracy_score(y_singolo, r['estimator'][0].predict(X_singolo.iloc[:,1:10])))"
   ]
  }
 ]
}