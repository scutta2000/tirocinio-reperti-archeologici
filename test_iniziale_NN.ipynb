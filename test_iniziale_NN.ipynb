{
 "cells": [
  {
   "source": [
    "# Obbiettivo\n",
    "\n",
    "Primo test per verificare se un NN può essere efficace per risolvere il problema.\n",
    "\n",
    "# Risultati\n",
    "\n",
    "Ottenuti buoni risultati ~95% accuratezza, i NN sono una strada plausibile"
   ],
   "cell_type": "markdown",
   "metadata": {}
  },
  {
   "cell_type": "code",
   "execution_count": 2,
   "metadata": {},
   "outputs": [],
   "source": [
    "import pandas as pd\n",
    "from sklearn.svm import SVC\n",
    "from sklearn.model_selection import train_test_split\n",
    "from sklearn.neural_network import MLPClassifier\n",
    "from matplotlib import pyplot as plt\n",
    "import numpy"
   ]
  },
  {
   "cell_type": "code",
   "execution_count": 3,
   "metadata": {},
   "outputs": [
    {
     "output_type": "execute_result",
     "data": {
      "text/plain": [
       "            K         Ca        Ti        Cr        Mn         Fe        Zn  \\\n",
       "1   23.283007  38.495939  2.937838  0.338921  0.845481  33.842670  0.125469   \n",
       "2   22.487569  44.453934  2.955614  0.356781  0.672057  28.840183  0.081413   \n",
       "3   24.775252  42.840387  2.716968  0.286558  0.709064  28.449856  0.088633   \n",
       "4   24.784656  42.597910  3.376594  0.321580  0.723556  27.885609  0.114850   \n",
       "5   12.837806  59.694249  0.544211  0.283734  0.595377  25.779494  0.125587   \n",
       "..        ...        ...       ...       ...       ...        ...       ...   \n",
       "77  12.011662  58.518950  2.553936  0.338192  0.705539  25.551020  0.069971   \n",
       "78  14.353377  56.733937  2.127952  0.219660  0.658979  25.617792  0.054915   \n",
       "79  16.088906  55.124077  2.146871  0.214687  0.669319  25.453053  0.063143   \n",
       "80  11.752975  67.719524  1.633966  0.263750  0.469604  17.967192  0.038598   \n",
       "81  14.349628  65.135864  1.822488  0.217120  0.480295  17.764327  0.046056   \n",
       "\n",
       "          Rb        Sr  \n",
       "1   0.042691  0.087984  \n",
       "2   0.047092  0.105358  \n",
       "3   0.051314  0.081969  \n",
       "4   0.057425  0.137820  \n",
       "5   0.043413  0.096129  \n",
       "..       ...       ...  \n",
       "77  0.064140  0.186589  \n",
       "78  0.054915  0.178473  \n",
       "79  0.063143  0.176801  \n",
       "80  0.032165  0.122226  \n",
       "81  0.046056  0.138167  \n",
       "\n",
       "[81 rows x 9 columns]"
      ],
      "text/html": "<div>\n<style scoped>\n    .dataframe tbody tr th:only-of-type {\n        vertical-align: middle;\n    }\n\n    .dataframe tbody tr th {\n        vertical-align: top;\n    }\n\n    .dataframe thead th {\n        text-align: right;\n    }\n</style>\n<table border=\"1\" class=\"dataframe\">\n  <thead>\n    <tr style=\"text-align: right;\">\n      <th></th>\n      <th>K</th>\n      <th>Ca</th>\n      <th>Ti</th>\n      <th>Cr</th>\n      <th>Mn</th>\n      <th>Fe</th>\n      <th>Zn</th>\n      <th>Rb</th>\n      <th>Sr</th>\n    </tr>\n  </thead>\n  <tbody>\n    <tr>\n      <th>1</th>\n      <td>23.283007</td>\n      <td>38.495939</td>\n      <td>2.937838</td>\n      <td>0.338921</td>\n      <td>0.845481</td>\n      <td>33.842670</td>\n      <td>0.125469</td>\n      <td>0.042691</td>\n      <td>0.087984</td>\n    </tr>\n    <tr>\n      <th>2</th>\n      <td>22.487569</td>\n      <td>44.453934</td>\n      <td>2.955614</td>\n      <td>0.356781</td>\n      <td>0.672057</td>\n      <td>28.840183</td>\n      <td>0.081413</td>\n      <td>0.047092</td>\n      <td>0.105358</td>\n    </tr>\n    <tr>\n      <th>3</th>\n      <td>24.775252</td>\n      <td>42.840387</td>\n      <td>2.716968</td>\n      <td>0.286558</td>\n      <td>0.709064</td>\n      <td>28.449856</td>\n      <td>0.088633</td>\n      <td>0.051314</td>\n      <td>0.081969</td>\n    </tr>\n    <tr>\n      <th>4</th>\n      <td>24.784656</td>\n      <td>42.597910</td>\n      <td>3.376594</td>\n      <td>0.321580</td>\n      <td>0.723556</td>\n      <td>27.885609</td>\n      <td>0.114850</td>\n      <td>0.057425</td>\n      <td>0.137820</td>\n    </tr>\n    <tr>\n      <th>5</th>\n      <td>12.837806</td>\n      <td>59.694249</td>\n      <td>0.544211</td>\n      <td>0.283734</td>\n      <td>0.595377</td>\n      <td>25.779494</td>\n      <td>0.125587</td>\n      <td>0.043413</td>\n      <td>0.096129</td>\n    </tr>\n    <tr>\n      <th>...</th>\n      <td>...</td>\n      <td>...</td>\n      <td>...</td>\n      <td>...</td>\n      <td>...</td>\n      <td>...</td>\n      <td>...</td>\n      <td>...</td>\n      <td>...</td>\n    </tr>\n    <tr>\n      <th>77</th>\n      <td>12.011662</td>\n      <td>58.518950</td>\n      <td>2.553936</td>\n      <td>0.338192</td>\n      <td>0.705539</td>\n      <td>25.551020</td>\n      <td>0.069971</td>\n      <td>0.064140</td>\n      <td>0.186589</td>\n    </tr>\n    <tr>\n      <th>78</th>\n      <td>14.353377</td>\n      <td>56.733937</td>\n      <td>2.127952</td>\n      <td>0.219660</td>\n      <td>0.658979</td>\n      <td>25.617792</td>\n      <td>0.054915</td>\n      <td>0.054915</td>\n      <td>0.178473</td>\n    </tr>\n    <tr>\n      <th>79</th>\n      <td>16.088906</td>\n      <td>55.124077</td>\n      <td>2.146871</td>\n      <td>0.214687</td>\n      <td>0.669319</td>\n      <td>25.453053</td>\n      <td>0.063143</td>\n      <td>0.063143</td>\n      <td>0.176801</td>\n    </tr>\n    <tr>\n      <th>80</th>\n      <td>11.752975</td>\n      <td>67.719524</td>\n      <td>1.633966</td>\n      <td>0.263750</td>\n      <td>0.469604</td>\n      <td>17.967192</td>\n      <td>0.038598</td>\n      <td>0.032165</td>\n      <td>0.122226</td>\n    </tr>\n    <tr>\n      <th>81</th>\n      <td>14.349628</td>\n      <td>65.135864</td>\n      <td>1.822488</td>\n      <td>0.217120</td>\n      <td>0.480295</td>\n      <td>17.764327</td>\n      <td>0.046056</td>\n      <td>0.046056</td>\n      <td>0.138167</td>\n    </tr>\n  </tbody>\n</table>\n<p>81 rows × 9 columns</p>\n</div>"
     },
     "metadata": {},
     "execution_count": 3
    }
   ],
   "source": [
    "tarquina = pd.read_excel('dati_ceramiche_classi.xlsx', index_col=0, usecols = [0,2,3,4,5,6,7,8,9,10])\n",
    "tarquina"
   ]
  },
  {
   "cell_type": "code",
   "execution_count": 4,
   "metadata": {},
   "outputs": [
    {
     "output_type": "execute_result",
     "data": {
      "text/plain": [
       "            K         Ca        Ti        Cr        Mn         Fe        Zn  \\\n",
       "1   24.013915  30.238448  1.658187  0.624986  0.868574  42.365710  0.073002   \n",
       "2   21.907415  30.733769  2.689205  0.633884  1.181329  42.566270  0.096043   \n",
       "3   21.786311  31.459295  3.157223  0.648139  0.898556  41.741137  0.088383   \n",
       "4   30.434615  12.386248  3.711257  0.388633  1.345788  51.478539  0.085615   \n",
       "5   31.341822  15.239759  3.934893  0.297868  0.916829  47.927542  0.153478   \n",
       "6   31.433366  17.270555  3.020288  0.345757  1.484721  46.130066  0.111863   \n",
       "7   29.280856  12.019904  4.740948  0.931436  1.966643  50.733897  0.121274   \n",
       "8   33.541810  15.833744  4.004728  0.523983  0.969172  44.847828  0.121146   \n",
       "9   31.558418  15.103411  4.871190  0.507983  1.215530  46.298984  0.172351   \n",
       "10  31.345192  12.021858  4.987792  0.406929  1.557958  49.215208  0.162772   \n",
       "11  33.369950  13.368179  2.214741  0.862863  0.813253  49.006024  0.118710   \n",
       "12  31.959566  19.173279  3.863977  0.385475  0.844764  43.461278  0.090218   \n",
       "13  33.749312  13.396954  2.991375  0.495504  1.101119  47.696825  0.183520   \n",
       "14  33.900524  20.196335  4.136126  0.235602  0.706806  40.431937  0.117801   \n",
       "15  26.041333  17.806367  1.916444  0.894146  1.412576  51.599602  0.118165   \n",
       "16  24.096037  19.959502  2.603413  0.491756  1.258316  51.135377  0.159097   \n",
       "17  35.825888  27.414912  3.295729  0.443902  0.687409  32.094241  0.061476   \n",
       "18  35.198547  29.334235  2.968908  0.438493  0.671680  31.121156  0.069280   \n",
       "19  37.281876  26.193334  3.305327  0.323147  0.766319  31.834549  0.083095   \n",
       "20  19.460456  32.536157  2.485473  0.387377  1.072824  43.727166  0.136858   \n",
       "21  22.421662  28.475816  3.915896  0.370808  1.209201  43.347867  0.111039   \n",
       "22  17.350395  32.254422  3.481370  0.207000  1.035002  45.182537  0.188182   \n",
       "23  19.662921  29.820225  4.988764  0.561798  1.370787  43.168539  0.157303   \n",
       "24  21.602529  29.778698  4.075729  0.436062  2.667248  41.115593  0.163523   \n",
       "25  25.117660  21.354484  4.176769  0.624927  2.921080  45.443348  0.197072   \n",
       "26  21.268997  30.022796  4.604863  0.402736  2.826748  40.433131  0.227964   \n",
       "27  25.347120  22.422452  4.549483  0.709010  2.924668  43.604136  0.236337   \n",
       "28  23.985746  40.131579  3.234649  0.603070  0.822368  30.838816  0.082237   \n",
       "29  23.559783  40.625000  3.206522  0.570652  0.788043  30.923913  0.081522   \n",
       "30  24.584293  40.726529  3.351241  0.588386  0.920952  29.368125  0.076746   \n",
       "31  31.006369   8.458599  5.299363  0.891720  1.949045  52.101911  0.089172   \n",
       "32  31.079342   8.177269  4.960686  0.886347  1.944246  52.651894  0.100071   \n",
       "\n",
       "          Rb        Sr  \n",
       "1   0.062573  0.094605  \n",
       "2   0.076834  0.115252  \n",
       "3   0.093293  0.127664  \n",
       "4   0.096196  0.073109  \n",
       "5   0.095924  0.091885  \n",
       "6   0.104744  0.098642  \n",
       "7   0.112523  0.092519  \n",
       "8   0.091599  0.065990  \n",
       "9   0.154209  0.117925  \n",
       "10  0.162772  0.139519  \n",
       "11  0.132884  0.113395  \n",
       "12  0.105596  0.115848  \n",
       "13  0.183520  0.201872  \n",
       "14  0.130890  0.143979  \n",
       "15  0.070733  0.140634  \n",
       "16  0.101244  0.195256  \n",
       "17  0.097403  0.079040  \n",
       "18  0.103075  0.094627  \n",
       "19  0.120026  0.092328  \n",
       "20  0.068429  0.125260  \n",
       "21  0.053991  0.093721  \n",
       "22  0.112909  0.188182  \n",
       "23  0.089888  0.179775  \n",
       "24  0.075584  0.085032  \n",
       "25  0.082978  0.081681  \n",
       "26  0.098784  0.113982  \n",
       "27  0.103397  0.103397  \n",
       "28  0.109649  0.191886  \n",
       "29  0.081522  0.163043  \n",
       "30  0.127910  0.255820  \n",
       "31  0.101911  0.101911  \n",
       "32  0.100071  0.100071  "
      ],
      "text/html": "<div>\n<style scoped>\n    .dataframe tbody tr th:only-of-type {\n        vertical-align: middle;\n    }\n\n    .dataframe tbody tr th {\n        vertical-align: top;\n    }\n\n    .dataframe thead th {\n        text-align: right;\n    }\n</style>\n<table border=\"1\" class=\"dataframe\">\n  <thead>\n    <tr style=\"text-align: right;\">\n      <th></th>\n      <th>K</th>\n      <th>Ca</th>\n      <th>Ti</th>\n      <th>Cr</th>\n      <th>Mn</th>\n      <th>Fe</th>\n      <th>Zn</th>\n      <th>Rb</th>\n      <th>Sr</th>\n    </tr>\n  </thead>\n  <tbody>\n    <tr>\n      <th>1</th>\n      <td>24.013915</td>\n      <td>30.238448</td>\n      <td>1.658187</td>\n      <td>0.624986</td>\n      <td>0.868574</td>\n      <td>42.365710</td>\n      <td>0.073002</td>\n      <td>0.062573</td>\n      <td>0.094605</td>\n    </tr>\n    <tr>\n      <th>2</th>\n      <td>21.907415</td>\n      <td>30.733769</td>\n      <td>2.689205</td>\n      <td>0.633884</td>\n      <td>1.181329</td>\n      <td>42.566270</td>\n      <td>0.096043</td>\n      <td>0.076834</td>\n      <td>0.115252</td>\n    </tr>\n    <tr>\n      <th>3</th>\n      <td>21.786311</td>\n      <td>31.459295</td>\n      <td>3.157223</td>\n      <td>0.648139</td>\n      <td>0.898556</td>\n      <td>41.741137</td>\n      <td>0.088383</td>\n      <td>0.093293</td>\n      <td>0.127664</td>\n    </tr>\n    <tr>\n      <th>4</th>\n      <td>30.434615</td>\n      <td>12.386248</td>\n      <td>3.711257</td>\n      <td>0.388633</td>\n      <td>1.345788</td>\n      <td>51.478539</td>\n      <td>0.085615</td>\n      <td>0.096196</td>\n      <td>0.073109</td>\n    </tr>\n    <tr>\n      <th>5</th>\n      <td>31.341822</td>\n      <td>15.239759</td>\n      <td>3.934893</td>\n      <td>0.297868</td>\n      <td>0.916829</td>\n      <td>47.927542</td>\n      <td>0.153478</td>\n      <td>0.095924</td>\n      <td>0.091885</td>\n    </tr>\n    <tr>\n      <th>6</th>\n      <td>31.433366</td>\n      <td>17.270555</td>\n      <td>3.020288</td>\n      <td>0.345757</td>\n      <td>1.484721</td>\n      <td>46.130066</td>\n      <td>0.111863</td>\n      <td>0.104744</td>\n      <td>0.098642</td>\n    </tr>\n    <tr>\n      <th>7</th>\n      <td>29.280856</td>\n      <td>12.019904</td>\n      <td>4.740948</td>\n      <td>0.931436</td>\n      <td>1.966643</td>\n      <td>50.733897</td>\n      <td>0.121274</td>\n      <td>0.112523</td>\n      <td>0.092519</td>\n    </tr>\n    <tr>\n      <th>8</th>\n      <td>33.541810</td>\n      <td>15.833744</td>\n      <td>4.004728</td>\n      <td>0.523983</td>\n      <td>0.969172</td>\n      <td>44.847828</td>\n      <td>0.121146</td>\n      <td>0.091599</td>\n      <td>0.065990</td>\n    </tr>\n    <tr>\n      <th>9</th>\n      <td>31.558418</td>\n      <td>15.103411</td>\n      <td>4.871190</td>\n      <td>0.507983</td>\n      <td>1.215530</td>\n      <td>46.298984</td>\n      <td>0.172351</td>\n      <td>0.154209</td>\n      <td>0.117925</td>\n    </tr>\n    <tr>\n      <th>10</th>\n      <td>31.345192</td>\n      <td>12.021858</td>\n      <td>4.987792</td>\n      <td>0.406929</td>\n      <td>1.557958</td>\n      <td>49.215208</td>\n      <td>0.162772</td>\n      <td>0.162772</td>\n      <td>0.139519</td>\n    </tr>\n    <tr>\n      <th>11</th>\n      <td>33.369950</td>\n      <td>13.368179</td>\n      <td>2.214741</td>\n      <td>0.862863</td>\n      <td>0.813253</td>\n      <td>49.006024</td>\n      <td>0.118710</td>\n      <td>0.132884</td>\n      <td>0.113395</td>\n    </tr>\n    <tr>\n      <th>12</th>\n      <td>31.959566</td>\n      <td>19.173279</td>\n      <td>3.863977</td>\n      <td>0.385475</td>\n      <td>0.844764</td>\n      <td>43.461278</td>\n      <td>0.090218</td>\n      <td>0.105596</td>\n      <td>0.115848</td>\n    </tr>\n    <tr>\n      <th>13</th>\n      <td>33.749312</td>\n      <td>13.396954</td>\n      <td>2.991375</td>\n      <td>0.495504</td>\n      <td>1.101119</td>\n      <td>47.696825</td>\n      <td>0.183520</td>\n      <td>0.183520</td>\n      <td>0.201872</td>\n    </tr>\n    <tr>\n      <th>14</th>\n      <td>33.900524</td>\n      <td>20.196335</td>\n      <td>4.136126</td>\n      <td>0.235602</td>\n      <td>0.706806</td>\n      <td>40.431937</td>\n      <td>0.117801</td>\n      <td>0.130890</td>\n      <td>0.143979</td>\n    </tr>\n    <tr>\n      <th>15</th>\n      <td>26.041333</td>\n      <td>17.806367</td>\n      <td>1.916444</td>\n      <td>0.894146</td>\n      <td>1.412576</td>\n      <td>51.599602</td>\n      <td>0.118165</td>\n      <td>0.070733</td>\n      <td>0.140634</td>\n    </tr>\n    <tr>\n      <th>16</th>\n      <td>24.096037</td>\n      <td>19.959502</td>\n      <td>2.603413</td>\n      <td>0.491756</td>\n      <td>1.258316</td>\n      <td>51.135377</td>\n      <td>0.159097</td>\n      <td>0.101244</td>\n      <td>0.195256</td>\n    </tr>\n    <tr>\n      <th>17</th>\n      <td>35.825888</td>\n      <td>27.414912</td>\n      <td>3.295729</td>\n      <td>0.443902</td>\n      <td>0.687409</td>\n      <td>32.094241</td>\n      <td>0.061476</td>\n      <td>0.097403</td>\n      <td>0.079040</td>\n    </tr>\n    <tr>\n      <th>18</th>\n      <td>35.198547</td>\n      <td>29.334235</td>\n      <td>2.968908</td>\n      <td>0.438493</td>\n      <td>0.671680</td>\n      <td>31.121156</td>\n      <td>0.069280</td>\n      <td>0.103075</td>\n      <td>0.094627</td>\n    </tr>\n    <tr>\n      <th>19</th>\n      <td>37.281876</td>\n      <td>26.193334</td>\n      <td>3.305327</td>\n      <td>0.323147</td>\n      <td>0.766319</td>\n      <td>31.834549</td>\n      <td>0.083095</td>\n      <td>0.120026</td>\n      <td>0.092328</td>\n    </tr>\n    <tr>\n      <th>20</th>\n      <td>19.460456</td>\n      <td>32.536157</td>\n      <td>2.485473</td>\n      <td>0.387377</td>\n      <td>1.072824</td>\n      <td>43.727166</td>\n      <td>0.136858</td>\n      <td>0.068429</td>\n      <td>0.125260</td>\n    </tr>\n    <tr>\n      <th>21</th>\n      <td>22.421662</td>\n      <td>28.475816</td>\n      <td>3.915896</td>\n      <td>0.370808</td>\n      <td>1.209201</td>\n      <td>43.347867</td>\n      <td>0.111039</td>\n      <td>0.053991</td>\n      <td>0.093721</td>\n    </tr>\n    <tr>\n      <th>22</th>\n      <td>17.350395</td>\n      <td>32.254422</td>\n      <td>3.481370</td>\n      <td>0.207000</td>\n      <td>1.035002</td>\n      <td>45.182537</td>\n      <td>0.188182</td>\n      <td>0.112909</td>\n      <td>0.188182</td>\n    </tr>\n    <tr>\n      <th>23</th>\n      <td>19.662921</td>\n      <td>29.820225</td>\n      <td>4.988764</td>\n      <td>0.561798</td>\n      <td>1.370787</td>\n      <td>43.168539</td>\n      <td>0.157303</td>\n      <td>0.089888</td>\n      <td>0.179775</td>\n    </tr>\n    <tr>\n      <th>24</th>\n      <td>21.602529</td>\n      <td>29.778698</td>\n      <td>4.075729</td>\n      <td>0.436062</td>\n      <td>2.667248</td>\n      <td>41.115593</td>\n      <td>0.163523</td>\n      <td>0.075584</td>\n      <td>0.085032</td>\n    </tr>\n    <tr>\n      <th>25</th>\n      <td>25.117660</td>\n      <td>21.354484</td>\n      <td>4.176769</td>\n      <td>0.624927</td>\n      <td>2.921080</td>\n      <td>45.443348</td>\n      <td>0.197072</td>\n      <td>0.082978</td>\n      <td>0.081681</td>\n    </tr>\n    <tr>\n      <th>26</th>\n      <td>21.268997</td>\n      <td>30.022796</td>\n      <td>4.604863</td>\n      <td>0.402736</td>\n      <td>2.826748</td>\n      <td>40.433131</td>\n      <td>0.227964</td>\n      <td>0.098784</td>\n      <td>0.113982</td>\n    </tr>\n    <tr>\n      <th>27</th>\n      <td>25.347120</td>\n      <td>22.422452</td>\n      <td>4.549483</td>\n      <td>0.709010</td>\n      <td>2.924668</td>\n      <td>43.604136</td>\n      <td>0.236337</td>\n      <td>0.103397</td>\n      <td>0.103397</td>\n    </tr>\n    <tr>\n      <th>28</th>\n      <td>23.985746</td>\n      <td>40.131579</td>\n      <td>3.234649</td>\n      <td>0.603070</td>\n      <td>0.822368</td>\n      <td>30.838816</td>\n      <td>0.082237</td>\n      <td>0.109649</td>\n      <td>0.191886</td>\n    </tr>\n    <tr>\n      <th>29</th>\n      <td>23.559783</td>\n      <td>40.625000</td>\n      <td>3.206522</td>\n      <td>0.570652</td>\n      <td>0.788043</td>\n      <td>30.923913</td>\n      <td>0.081522</td>\n      <td>0.081522</td>\n      <td>0.163043</td>\n    </tr>\n    <tr>\n      <th>30</th>\n      <td>24.584293</td>\n      <td>40.726529</td>\n      <td>3.351241</td>\n      <td>0.588386</td>\n      <td>0.920952</td>\n      <td>29.368125</td>\n      <td>0.076746</td>\n      <td>0.127910</td>\n      <td>0.255820</td>\n    </tr>\n    <tr>\n      <th>31</th>\n      <td>31.006369</td>\n      <td>8.458599</td>\n      <td>5.299363</td>\n      <td>0.891720</td>\n      <td>1.949045</td>\n      <td>52.101911</td>\n      <td>0.089172</td>\n      <td>0.101911</td>\n      <td>0.101911</td>\n    </tr>\n    <tr>\n      <th>32</th>\n      <td>31.079342</td>\n      <td>8.177269</td>\n      <td>4.960686</td>\n      <td>0.886347</td>\n      <td>1.944246</td>\n      <td>52.651894</td>\n      <td>0.100071</td>\n      <td>0.100071</td>\n      <td>0.100071</td>\n    </tr>\n  </tbody>\n</table>\n</div>"
     },
     "metadata": {},
     "execution_count": 4
    }
   ],
   "source": [
    "non_tarquina = pd.read_excel('dati_ceramiche_classi.xlsx', index_col=0, usecols = [0,2,3,4,5,6,7,8,9,10], sheet_name=1)\n",
    "non_tarquina"
   ]
  },
  {
   "cell_type": "code",
   "execution_count": 13,
   "metadata": {},
   "outputs": [],
   "source": [
    "X = pd.concat([tarquina, non_tarquina])\n",
    "y = [1]*len(tarquina) + [0]*len(non_tarquina)\n",
    "\n",
    "X_train, X_test, y_train, y_test = train_test_split(X, y, test_size=.6, random_state=42, stratify=y)"
   ]
  },
  {
   "cell_type": "code",
   "execution_count": 14,
   "metadata": {},
   "outputs": [],
   "source": [
    "clf = SVC(gamma='auto')"
   ]
  },
  {
   "cell_type": "code",
   "execution_count": 15,
   "metadata": {},
   "outputs": [],
   "source": [
    "clf = MLPClassifier(hidden_layer_sizes=(5,), max_iter=1000)"
   ]
  },
  {
   "cell_type": "code",
   "execution_count": 22,
   "metadata": {},
   "outputs": [
    {
     "output_type": "execute_result",
     "data": {
      "text/plain": [
       "MLPClassifier(hidden_layer_sizes=(5,), max_iter=1000)"
      ]
     },
     "metadata": {},
     "execution_count": 22
    }
   ],
   "source": [
    "clf.fit(X_train, y_train)"
   ]
  },
  {
   "cell_type": "code",
   "execution_count": 23,
   "metadata": {},
   "outputs": [
    {
     "output_type": "execute_result",
     "data": {
      "text/plain": [
       "0.9558823529411765"
      ]
     },
     "metadata": {},
     "execution_count": 23
    }
   ],
   "source": [
    "clf.score(X_test, y_test)"
   ]
  },
  {
   "cell_type": "code",
   "execution_count": 24,
   "metadata": {},
   "outputs": [
    {
     "output_type": "execute_result",
     "data": {
      "text/plain": [
       "array([[17,  2],\n",
       "       [ 1, 48]])"
      ]
     },
     "metadata": {},
     "execution_count": 24
    }
   ],
   "source": [
    "from sklearn.metrics import confusion_matrix\n",
    "\n",
    "confusion_matrix(y_test, clf.predict(X_test))"
   ]
  },
  {
   "cell_type": "code",
   "execution_count": null,
   "metadata": {},
   "outputs": [],
   "source": []
  }
 ],
 "metadata": {
  "kernelspec": {
   "display_name": "Python 3",
   "language": "python",
   "name": "python3"
  },
  "language_info": {
   "codemirror_mode": {
    "name": "ipython",
    "version": 3
   },
   "file_extension": ".py",
   "mimetype": "text/x-python",
   "name": "python",
   "nbconvert_exporter": "python",
   "pygments_lexer": "ipython3",
   "version": "3.8.5-final"
  },
  "latex_envs": {
   "LaTeX_envs_menu_present": true,
   "autoclose": false,
   "autocomplete": true,
   "bibliofile": "biblio.bib",
   "cite_by": "apalike",
   "current_citInitial": 1,
   "eqLabelWithNumbers": true,
   "eqNumInitial": 1,
   "hotkeys": {
    "equation": "Ctrl-E",
    "itemize": "Ctrl-I"
   },
   "labels_anchors": false,
   "latex_user_defs": false,
   "report_style_numbering": false,
   "user_envs_cfg": false
  },
  "toc": {
   "base_numbering": 1,
   "nav_menu": {},
   "number_sections": true,
   "sideBar": true,
   "skip_h1_title": false,
   "title_cell": "Table of Contents",
   "title_sidebar": "Contents",
   "toc_cell": false,
   "toc_position": {},
   "toc_section_display": true,
   "toc_window_display": false
  }
 },
 "nbformat": 4,
 "nbformat_minor": 4
}