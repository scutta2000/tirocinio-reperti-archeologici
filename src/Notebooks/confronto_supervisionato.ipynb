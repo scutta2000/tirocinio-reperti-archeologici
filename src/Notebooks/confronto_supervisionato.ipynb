{
 "metadata": {
  "language_info": {
   "codemirror_mode": {
    "name": "ipython",
    "version": 3
   },
   "file_extension": ".py",
   "mimetype": "text/x-python",
   "name": "python",
   "nbconvert_exporter": "python",
   "pygments_lexer": "ipython3",
   "version": "3.7.4"
  },
  "orig_nbformat": 2,
  "kernelspec": {
   "name": "python3",
   "display_name": "Python 3",
   "language": "python"
  }
 },
 "nbformat": 4,
 "nbformat_minor": 2,
 "cells": [
  {
   "cell_type": "code",
   "execution_count": 1,
   "metadata": {},
   "outputs": [],
   "source": [
    "import sys; sys.path.insert(0, '..')"
   ]
  },
  {
   "cell_type": "code",
   "execution_count": 2,
   "metadata": {},
   "outputs": [],
   "source": [
    "import matplotlib.pyplot as plt\n",
    "import numpy as np\n",
    "from joblib import dump, load\n",
    "from matplotlib.colors import ListedColormap\n",
    "from sklearn.discriminant_analysis import QuadraticDiscriminantAnalysis\n",
    "from sklearn.ensemble import RandomForestClassifier\n",
    "from sklearn.gaussian_process.kernels import RBF\n",
    "from sklearn.metrics import accuracy_score, confusion_matrix, make_scorer\n",
    "from sklearn.model_selection import (GridSearchCV, cross_validate,\n",
    "                                     train_test_split)\n",
    "from sklearn.naive_bayes import GaussianNB\n",
    "from sklearn.neighbors import KNeighborsClassifier\n",
    "from sklearn.neural_network import MLPClassifier\n",
    "from sklearn.preprocessing import StandardScaler\n",
    "from sklearn.svm import SVC\n",
    "from sklearn.tree import DecisionTreeClassifier\n",
    "from tqdm import tqdm\n",
    "\n",
    "from scripts.get_data import ceramiche_DB"
   ]
  },
  {
   "cell_type": "code",
   "execution_count": 3,
   "metadata": {},
   "outputs": [],
   "source": [
    "classifiers = {\n",
    "    \"Neural net\": (\n",
    "                MLPClassifier(),\n",
    "                {\n",
    "                    'hidden_layer_sizes': list(range(2,30)),\n",
    "                    'activation': ['identity', 'logistic', 'tanh', 'relu'],\n",
    "                }\n",
    "            ),\n",
    "\n",
    "\n",
    "    \"Nearest Neighbors\": (\n",
    "                    KNeighborsClassifier(),\n",
    "                    {'n_neighbors': list(range(1,11)), 'weights': ['uniform', 'distance']}\n",
    "                ),\n",
    "    \"SVC\": (\n",
    "                    SVC(),\n",
    "                    [{\n",
    "                        'kernel': ['linear', 'rbf', 'sigmoid'],\n",
    "                        'C': [x/10 for x in range(1, 11)],\n",
    "                    },\n",
    "                    {\n",
    "                        'kernel': ['poly'],\n",
    "                        'degree': list(range(2,6)),\n",
    "                        'C': [x/10 for x in range(1, 11)],\n",
    "                    }]\n",
    "                ),\n",
    "    \"Decision Tree\": (\n",
    "                    DecisionTreeClassifier(),\n",
    "                    {\n",
    "                        'criterion': ['gini', 'entropy'], \n",
    "                        'min_samples_split':list(range(2,11)),\n",
    "                        'min_samples_leaf': list(range(1,6)),\n",
    "                    }\n",
    "                ),\n",
    "    \"Random Forest\": (\n",
    "                    RandomForestClassifier(n_jobs=-1),\n",
    "                    {\n",
    "                        'n_estimators': list(range(1, 101, 10)), \n",
    "                        'criterion': ['gini', 'entropy'], \n",
    "                        'min_samples_split':list(range(2, 11)),\n",
    "                        'min_samples_leaf': list(range(1, 6)),\n",
    "                        'oob_score': [True, False],\n",
    "                    }\n",
    "                ),\n",
    "    \"Naive Bayes\": (\n",
    "                    GaussianNB(),\n",
    "                    {}\n",
    "                ),\n",
    "\n",
    "    # \"Gaussian Process\": GaussianProcessClassifier(1.0 * RBF(1.0)),\n",
    "    # \"AdaBoost\": AdaBoostClassifier(),\n",
    "    # \"QDA\": QuadraticDiscriminantAnalysis(),\n",
    "}"
   ]
  },
  {
   "cell_type": "code",
   "execution_count": 4,
   "metadata": {},
   "outputs": [],
   "source": [
    "def sensibility(y_true, y_predict):\n",
    "    c_matrix = confusion_matrix(y_true, y_predict)\n",
    "    return c_matrix[1][1]/sum(c_matrix[1])\n",
    "\n",
    "\n",
    "def specificity(y_true, y_predict):\n",
    "    c_matrix = confusion_matrix(y_true, y_predict)\n",
    "    return c_matrix[0][0]/sum(c_matrix[0])\n",
    "\n",
    "\n",
    "scores = {\n",
    "    'sensibility' : make_scorer(sensibility, greater_is_better=True),\n",
    "    'specificity' : make_scorer(specificity, greater_is_better=True),\n",
    "    'accuracy' : make_scorer(accuracy_score, greater_is_better=True)\n",
    "}"
   ]
  },
  {
   "cell_type": "code",
   "execution_count": 5,
   "metadata": {},
   "outputs": [
    {
     "output_type": "stream",
     "name": "stdout",
     "text": [
      "..\\dati_ceramiche_classi.xlsx\n"
     ]
    }
   ],
   "source": [
    "X, y = ceramiche_DB()\n",
    "X_train, X_test, y_train, y_test = train_test_split(X, y)"
   ]
  },
  {
   "cell_type": "code",
   "execution_count": 9,
   "metadata": {},
   "outputs": [],
   "source": [
    "#Se voi eseguire di nuovo la computazione invcece che caricare quella cachata cambia questa variabile\n",
    "NEW_COMPUTATION = False\n",
    "\n",
    "if NEW_COMPUTATION:\n",
    "    result = {}\n",
    "\n",
    "    import warnings\n",
    "    with warnings.catch_warnings():\n",
    "        warnings.simplefilter(\"ignore\")\n",
    "\n",
    "        for name, (clf, params) in tqdm(classifiers.items()):\n",
    "            grid = GridSearchCV(clf, params, scoring='accuracy', cv = 5, n_jobs = -1)\n",
    "            s = cross_validate(grid, X, y, cv=5, scoring = scores, return_estimator=True)\n",
    "            result[name] = s\n",
    "else:\n",
    "    result = load('../scripts/supervised_dump.joblib')\n"
   ]
  },
  {
   "cell_type": "code",
   "execution_count": 7,
   "metadata": {},
   "outputs": [
    {
     "output_type": "stream",
     "name": "stdout",
     "text": [
      "NEURAL NET\n",
      "                                    mean                 std\n",
      "         sensibility  0.9286764705882353 0.11399667633107935\n",
      "         specificity  0.7999999999999999 0.16329931618554522\n",
      "            accuracy  0.8946969696969698 0.06794571916599595\n",
      "\n",
      "\n",
      "NEAREST NEIGHBORS\n",
      "                                    mean                 std\n",
      "         sensibility  0.9522058823529411 0.06874115230894264\n",
      "         specificity  0.9333333333333333 0.13333333333333336\n",
      "            accuracy  0.9477272727272726 0.04958505506652598\n",
      "\n",
      "\n",
      "SVC\n",
      "                                    mean                 std\n",
      "         sensibility  0.9404411764705882 0.09114088489615395\n",
      "         specificity  0.8666666666666666 0.16329931618554522\n",
      "            accuracy  0.9212121212121213 0.05538080873483959\n",
      "\n",
      "\n",
      "DECISION TREE\n",
      "                                    mean                 std\n",
      "         sensibility  0.9036764705882353 0.12269501108009499\n",
      "         specificity  0.9333333333333333 0.13333333333333336\n",
      "            accuracy  0.9128787878787878 0.08038874784777159\n",
      "\n",
      "\n",
      "RANDOM FOREST\n",
      "                                    mean                 std\n",
      "         sensibility                 1.0                 0.0\n",
      "         specificity  0.9333333333333333 0.13333333333333336\n",
      "            accuracy  0.98181818181818180.036363636363636376\n",
      "\n",
      "\n",
      "NAIVE BAYES\n",
      "                                    mean                 std\n",
      "         sensibility                 1.0                 0.0\n",
      "         specificity                 1.0                 0.0\n",
      "            accuracy                 1.0                 0.0\n",
      "\n",
      "\n"
     ]
    }
   ],
   "source": [
    "rows = ['sensibility', 'specificity', 'accuracy']\n",
    "columns = ['mean', 'std']\n",
    "\n",
    "row_format =\"{:>20}\" * (len(columns) + 1)\n",
    "col_format =\"{:>20}\" * (len(columns) + 1)\n",
    "\n",
    "for n, r in result.items():\n",
    "    print(n.upper())\n",
    "\n",
    "    data = [(r[\"test_\"+x].mean(), r[\"test_\"+x].std()) for x in rows]\n",
    "\n",
    "    print(col_format.format(\"\", *columns))\n",
    "    for name, row in zip(rows, data):\n",
    "        print(row_format.format(name, *row))\n",
    "\n",
    "    print()\n",
    "    print()\n"
   ]
  },
  {
   "cell_type": "code",
   "execution_count": 8,
   "metadata": {},
   "outputs": [
    {
     "output_type": "execute_result",
     "data": {
      "text/plain": [
       "['../scripts/supervised_dump.joblib']"
      ]
     },
     "metadata": {},
     "execution_count": 8
    }
   ],
   "source": [
    "# dump(result, '../scripts/supervised_dump.joblib')"
   ]
  }
 ]
}