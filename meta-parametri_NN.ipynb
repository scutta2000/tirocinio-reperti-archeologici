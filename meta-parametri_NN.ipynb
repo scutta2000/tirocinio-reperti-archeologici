{
 "metadata": {
  "language_info": {
   "codemirror_mode": {
    "name": "ipython",
    "version": 3
   },
   "file_extension": ".py",
   "mimetype": "text/x-python",
   "name": "python",
   "nbconvert_exporter": "python",
   "pygments_lexer": "ipython3",
   "version": "3.8.5-final"
  },
  "orig_nbformat": 2,
  "kernelspec": {
   "name": "python38564bittirociniovenvbc01eea4023e40dea7593e273095970d",
   "display_name": "Python 3.8.5 64-bit ('tirocinio-venv')"
  }
 },
 "nbformat": 4,
 "nbformat_minor": 2,
 "cells": [
  {
   "source": [
    "\n",
    "# Obbiettivo\n",
    "\n",
    "Verificato che l'approccio NN funziona proviamo a stabilire i meta-parametri migliori\n",
    "\n",
    "# Risultato\n",
    "\n",
    "Dai test fatti i parametri ottimi sembrano variano ma tipicamente sono  \n",
    "* Activation = identity/tanh\n",
    "* hidden_layer_size = tra 4 e 17\n",
    "* solver = adam  \n",
    "\n",
    "ottendendo un accuratezza del tra il 91% e il 97%\n",
    "\n",
    "\n"
   ],
   "cell_type": "markdown",
   "metadata": {}
  },
  {
   "cell_type": "code",
   "execution_count": 38,
   "metadata": {},
   "outputs": [],
   "source": [
    "from get_data import ceramiche_DB\n",
    "from sklearn.model_selection import GridSearchCV\n",
    "from sklearn.neural_network import MLPClassifier\n",
    "from sklearn.model_selection import train_test_split\n",
    "from sklearn.model_selection import cross_val_score"
   ]
  },
  {
   "cell_type": "code",
   "execution_count": 9,
   "metadata": {},
   "outputs": [],
   "source": [
    "X, y = ceramiche_DB()\n",
    "X_train, X_test, y_train, y_test = train_test_split(X, y,  test_size=.3)"
   ]
  },
  {
   "cell_type": "code",
   "execution_count": 10,
   "metadata": {},
   "outputs": [],
   "source": [
    "nn = MLPClassifier(max_iter=500, random_state=42, solver='adam')\n",
    "params = dict(\n",
    "    hidden_layer_sizes  = list(range(2,30)),\n",
    "    activation          = ['identity', 'logistic', 'tanh', 'relu']\n",
    ")"
   ]
  },
  {
   "cell_type": "code",
   "execution_count": 11,
   "metadata": {},
   "outputs": [],
   "source": [
    "clf = GridSearchCV(estimator=nn, param_grid=params, cv=5, scoring='accuracy', verbose = 2, n_jobs = -1)"
   ]
  },
  {
   "cell_type": "code",
   "execution_count": 12,
   "metadata": {},
   "outputs": [
    {
     "output_type": "stream",
     "name": "stdout",
     "text": [
      "Fitting 5 folds for each of 112 candidates, totalling 560 fits\n"
     ]
    },
    {
     "output_type": "execute_result",
     "data": {
      "text/plain": [
       "(0.9616666666666667, {'activation': 'identity', 'hidden_layer_sizes': 17})"
      ]
     },
     "metadata": {},
     "execution_count": 12
    }
   ],
   "source": [
    "#Attenzione, ci mette molto a computare\n",
    "grid_result = clf.fit(X_train, y_train)\n",
    "grid_result.best_score_, grid_result.best_params_"
   ]
  },
  {
   "cell_type": "code",
   "execution_count": 19,
   "metadata": {},
   "outputs": [
    {
     "output_type": "execute_result",
     "data": {
      "text/plain": [
       "array([[ 8,  0],\n",
       "       [ 0, 26]])"
      ]
     },
     "metadata": {},
     "execution_count": 19
    }
   ],
   "source": [
    "from sklearn.metrics import confusion_matrix\n",
    "\n",
    "confusion_matrix(y_test, grid_result.predict(X_test))\n"
   ]
  },
  {
   "cell_type": "code",
   "execution_count": 24,
   "metadata": {},
   "outputs": [
    {
     "output_type": "execute_result",
     "data": {
      "text/plain": [
       "1.0"
      ]
     },
     "metadata": {},
     "execution_count": 24
    }
   ],
   "source": [
    "grid_result.score(X_test, y_test)"
   ]
  },
  {
   "cell_type": "code",
   "execution_count": 37,
   "metadata": {},
   "outputs": [
    {
     "output_type": "execute_result",
     "data": {
      "text/plain": [
       "0.9142857142857143"
      ]
     },
     "metadata": {},
     "execution_count": 37
    }
   ],
   "source": [
    "classifier = MLPClassifier(\n",
    "                activation='identity', hidden_layer_sizes=17,\n",
    "                solver='adam', max_iter=500,\n",
    "                )\n",
    "score = cross_val_score(classifier, X_test, y_test, cv=5)\n",
    "sum(score)/5"
   ]
  },
  {
   "cell_type": "code",
   "execution_count": 16,
   "metadata": {},
   "outputs": [
    {
     "output_type": "execute_result",
     "data": {
      "text/plain": [
       "0.9705882352941175"
      ]
     },
     "metadata": {},
     "execution_count": 16
    }
   ],
   "source": [
    "result = []\n",
    "for _ in range(20):\n",
    "    X2_train, X2_test, y2_train, y2_test = train_test_split(X, y,  test_size=.3)\n",
    "\n",
    "    classifier = MLPClassifier(\n",
    "                activation='tanh', hidden_layer_sizes=12,\n",
    "                solver='adam', max_iter=500,\n",
    "                \n",
    "                )\n",
    "\n",
    "    classifier.fit(X2_train, y2_train)\n",
    "\n",
    "    result.append(classifier.score(X2_test, y2_test))\n",
    "\n",
    "sum(result)/len(result)\n"
   ]
  }
 ]
}