{
 "metadata": {
  "language_info": {
   "codemirror_mode": {
    "name": "ipython",
    "version": 3
   },
   "file_extension": ".py",
   "mimetype": "text/x-python",
   "name": "python",
   "nbconvert_exporter": "python",
   "pygments_lexer": "ipython3",
   "version": "3.7.4"
  },
  "orig_nbformat": 2,
  "kernelspec": {
   "name": "python374jvsc74a57bd05422cffb4c9852eefca9f6ec987c142160de325641fe4514e5ed8a9ac7dbe8e9",
   "display_name": "Python 3.7.4 64-bit ('base': conda)"
  }
 },
 "nbformat": 4,
 "nbformat_minor": 2,
 "cells": [
  {
   "cell_type": "code",
   "execution_count": 1,
   "metadata": {},
   "outputs": [],
   "source": [
    "import sys; sys.path.insert(0, '..')"
   ]
  },
  {
   "cell_type": "code",
   "execution_count": 2,
   "metadata": {},
   "outputs": [],
   "source": [
    "from joblib import load\n",
    "from scripts.get_data import ceramiche_DB\n",
    "from sklearn.model_selection import GridSearchCV\n",
    "import pandas as pd\n",
    "import numpy as np"
   ]
  },
  {
   "cell_type": "code",
   "execution_count": 3,
   "metadata": {},
   "outputs": [],
   "source": [
    "X, _ = ceramiche_DB()\n",
    "\n",
    "results = load('../scripts/supervised_dump.joblib')"
   ]
  },
  {
   "cell_type": "code",
   "execution_count": 4,
   "metadata": {},
   "outputs": [],
   "source": [
    "cfs = dict()\n",
    "for k, v in results.items():\n",
    "    cfs[k] = max(\n",
    "            zip(v['test_accuracy'], v['estimator']),\n",
    "            key= lambda x: x[0]\n",
    "        ) [1].best_estimator_ "
   ]
  },
  {
   "cell_type": "code",
   "execution_count": 5,
   "metadata": {},
   "outputs": [
    {
     "output_type": "execute_result",
     "data": {
      "text/plain": [
       "           chiusi          K         Ca        Ti        Cr        Mn  \\\n",
       "1.0         3_73a  23.283007  38.495939  2.937838  0.338921  0.845481   \n",
       "NaN  3_73c(retro)  22.487569  44.453934  2.955614  0.356781  0.672057   \n",
       "NaN         3_73c  24.775252  42.840387  2.716968  0.286558  0.709064   \n",
       "NaN   3_73(retro)  24.784656  42.597910  3.376594  0.321580  0.723556   \n",
       "2.0        3_204a  12.837806  59.694249  0.544211  0.283734  0.595377   \n",
       "..            ...        ...        ...       ...       ...       ...   \n",
       "NaN           v6b  25.347120  22.422452  4.549483  0.709010  2.924668   \n",
       "8.0      A10-3bis  23.985746  40.131579  3.234649  0.603070  0.822368   \n",
       "NaN            _2  24.584293  40.726529  3.351241  0.588386  0.920952   \n",
       "9.0       c258-12  31.006369   8.458599  5.299363  0.891720  1.949045   \n",
       "NaN            _1  31.079342   8.177269  4.960686  0.886347  1.944246   \n",
       "\n",
       "            Fe        Zn        Rb        Sr  somma  \n",
       "1.0  33.842670  0.125469  0.042691  0.087984  100.0  \n",
       "NaN  28.840183  0.081413  0.047092  0.105358  100.0  \n",
       "NaN  28.449856  0.088633  0.051314  0.081969  100.0  \n",
       "NaN  27.885609  0.114850  0.057425  0.137820  100.0  \n",
       "2.0  25.779494  0.125587  0.043413  0.096129  100.0  \n",
       "..         ...       ...       ...       ...    ...  \n",
       "NaN  43.604136  0.236337  0.103397  0.103397  100.0  \n",
       "8.0  30.838816  0.082237  0.109649  0.191886  100.0  \n",
       "NaN  29.368125  0.076746  0.127910  0.255820  100.0  \n",
       "9.0  52.101911  0.089172  0.101911  0.101911  100.0  \n",
       "NaN  52.651894  0.100071  0.100071  0.100071  100.0  \n",
       "\n",
       "[112 rows x 11 columns]"
      ],
      "text/html": "<div>\n<style scoped>\n    .dataframe tbody tr th:only-of-type {\n        vertical-align: middle;\n    }\n\n    .dataframe tbody tr th {\n        vertical-align: top;\n    }\n\n    .dataframe thead th {\n        text-align: right;\n    }\n</style>\n<table border=\"1\" class=\"dataframe\">\n  <thead>\n    <tr style=\"text-align: right;\">\n      <th></th>\n      <th>chiusi</th>\n      <th>K</th>\n      <th>Ca</th>\n      <th>Ti</th>\n      <th>Cr</th>\n      <th>Mn</th>\n      <th>Fe</th>\n      <th>Zn</th>\n      <th>Rb</th>\n      <th>Sr</th>\n      <th>somma</th>\n    </tr>\n  </thead>\n  <tbody>\n    <tr>\n      <td>1.0</td>\n      <td>3_73a</td>\n      <td>23.283007</td>\n      <td>38.495939</td>\n      <td>2.937838</td>\n      <td>0.338921</td>\n      <td>0.845481</td>\n      <td>33.842670</td>\n      <td>0.125469</td>\n      <td>0.042691</td>\n      <td>0.087984</td>\n      <td>100.0</td>\n    </tr>\n    <tr>\n      <td>NaN</td>\n      <td>3_73c(retro)</td>\n      <td>22.487569</td>\n      <td>44.453934</td>\n      <td>2.955614</td>\n      <td>0.356781</td>\n      <td>0.672057</td>\n      <td>28.840183</td>\n      <td>0.081413</td>\n      <td>0.047092</td>\n      <td>0.105358</td>\n      <td>100.0</td>\n    </tr>\n    <tr>\n      <td>NaN</td>\n      <td>3_73c</td>\n      <td>24.775252</td>\n      <td>42.840387</td>\n      <td>2.716968</td>\n      <td>0.286558</td>\n      <td>0.709064</td>\n      <td>28.449856</td>\n      <td>0.088633</td>\n      <td>0.051314</td>\n      <td>0.081969</td>\n      <td>100.0</td>\n    </tr>\n    <tr>\n      <td>NaN</td>\n      <td>3_73(retro)</td>\n      <td>24.784656</td>\n      <td>42.597910</td>\n      <td>3.376594</td>\n      <td>0.321580</td>\n      <td>0.723556</td>\n      <td>27.885609</td>\n      <td>0.114850</td>\n      <td>0.057425</td>\n      <td>0.137820</td>\n      <td>100.0</td>\n    </tr>\n    <tr>\n      <td>2.0</td>\n      <td>3_204a</td>\n      <td>12.837806</td>\n      <td>59.694249</td>\n      <td>0.544211</td>\n      <td>0.283734</td>\n      <td>0.595377</td>\n      <td>25.779494</td>\n      <td>0.125587</td>\n      <td>0.043413</td>\n      <td>0.096129</td>\n      <td>100.0</td>\n    </tr>\n    <tr>\n      <td>...</td>\n      <td>...</td>\n      <td>...</td>\n      <td>...</td>\n      <td>...</td>\n      <td>...</td>\n      <td>...</td>\n      <td>...</td>\n      <td>...</td>\n      <td>...</td>\n      <td>...</td>\n      <td>...</td>\n    </tr>\n    <tr>\n      <td>NaN</td>\n      <td>v6b</td>\n      <td>25.347120</td>\n      <td>22.422452</td>\n      <td>4.549483</td>\n      <td>0.709010</td>\n      <td>2.924668</td>\n      <td>43.604136</td>\n      <td>0.236337</td>\n      <td>0.103397</td>\n      <td>0.103397</td>\n      <td>100.0</td>\n    </tr>\n    <tr>\n      <td>8.0</td>\n      <td>A10-3bis</td>\n      <td>23.985746</td>\n      <td>40.131579</td>\n      <td>3.234649</td>\n      <td>0.603070</td>\n      <td>0.822368</td>\n      <td>30.838816</td>\n      <td>0.082237</td>\n      <td>0.109649</td>\n      <td>0.191886</td>\n      <td>100.0</td>\n    </tr>\n    <tr>\n      <td>NaN</td>\n      <td>_2</td>\n      <td>24.584293</td>\n      <td>40.726529</td>\n      <td>3.351241</td>\n      <td>0.588386</td>\n      <td>0.920952</td>\n      <td>29.368125</td>\n      <td>0.076746</td>\n      <td>0.127910</td>\n      <td>0.255820</td>\n      <td>100.0</td>\n    </tr>\n    <tr>\n      <td>9.0</td>\n      <td>c258-12</td>\n      <td>31.006369</td>\n      <td>8.458599</td>\n      <td>5.299363</td>\n      <td>0.891720</td>\n      <td>1.949045</td>\n      <td>52.101911</td>\n      <td>0.089172</td>\n      <td>0.101911</td>\n      <td>0.101911</td>\n      <td>100.0</td>\n    </tr>\n    <tr>\n      <td>NaN</td>\n      <td>_1</td>\n      <td>31.079342</td>\n      <td>8.177269</td>\n      <td>4.960686</td>\n      <td>0.886347</td>\n      <td>1.944246</td>\n      <td>52.651894</td>\n      <td>0.100071</td>\n      <td>0.100071</td>\n      <td>0.100071</td>\n      <td>100.0</td>\n    </tr>\n  </tbody>\n</table>\n<p>112 rows × 11 columns</p>\n</div>"
     },
     "metadata": {},
     "execution_count": 5
    }
   ],
   "source": [
    "pd.concat([pd.read_excel('../dati_ceramiche_classi.xlsx', index_col=0),pd.read_excel('../dati_ceramiche_classi.xlsx', index_col=0, sheet_name=1)])"
   ]
  },
  {
   "cell_type": "code",
   "execution_count": 6,
   "metadata": {},
   "outputs": [
    {
     "output_type": "execute_result",
     "data": {
      "text/plain": [
       "           chiusi          K         Ca        Ti        Cr        Mn  \\\n",
       "1.0         3_73a  23.283007  38.495939  2.937838  0.338921  0.845481   \n",
       "NaN  3_73c(retro)  22.487569  44.453934  2.955614  0.356781  0.672057   \n",
       "NaN         3_73c  24.775252  42.840387  2.716968  0.286558  0.709064   \n",
       "NaN   3_73(retro)  24.784656  42.597910  3.376594  0.321580  0.723556   \n",
       "2.0        3_204a  12.837806  59.694249  0.544211  0.283734  0.595377   \n",
       "..            ...        ...        ...       ...       ...       ...   \n",
       "NaN           v6b  25.347120  22.422452  4.549483  0.709010  2.924668   \n",
       "8.0      A10-3bis  23.985746  40.131579  3.234649  0.603070  0.822368   \n",
       "NaN            _2  24.584293  40.726529  3.351241  0.588386  0.920952   \n",
       "9.0       c258-12  31.006369   8.458599  5.299363  0.891720  1.949045   \n",
       "NaN            _1  31.079342   8.177269  4.960686  0.886347  1.944246   \n",
       "\n",
       "            Fe        Zn        Rb        Sr  somma  Neural net  \\\n",
       "1.0  33.842670  0.125469  0.042691  0.087984  100.0           1   \n",
       "NaN  28.840183  0.081413  0.047092  0.105358  100.0           1   \n",
       "NaN  28.449856  0.088633  0.051314  0.081969  100.0           1   \n",
       "NaN  27.885609  0.114850  0.057425  0.137820  100.0           1   \n",
       "2.0  25.779494  0.125587  0.043413  0.096129  100.0           1   \n",
       "..         ...       ...       ...       ...    ...         ...   \n",
       "NaN  43.604136  0.236337  0.103397  0.103397  100.0           0   \n",
       "8.0  30.838816  0.082237  0.109649  0.191886  100.0           0   \n",
       "NaN  29.368125  0.076746  0.127910  0.255820  100.0           0   \n",
       "9.0  52.101911  0.089172  0.101911  0.101911  100.0           0   \n",
       "NaN  52.651894  0.100071  0.100071  0.100071  100.0           0   \n",
       "\n",
       "     Nearest Neighbors  SVC  Decision Tree  Random Forest  Naive Bayes  \n",
       "1.0                  1    1              1              1            1  \n",
       "NaN                  1    1              1              1            1  \n",
       "NaN                  1    1              1              1            1  \n",
       "NaN                  1    1              1              1            1  \n",
       "2.0                  1    1              1              1            1  \n",
       "..                 ...  ...            ...            ...          ...  \n",
       "NaN                  0    0              0              0            0  \n",
       "8.0                  1    1              0              0            0  \n",
       "NaN                  1    0              0              0            0  \n",
       "9.0                  0    0              0              0            0  \n",
       "NaN                  0    0              0              0            0  \n",
       "\n",
       "[112 rows x 17 columns]"
      ],
      "text/html": "<div>\n<style scoped>\n    .dataframe tbody tr th:only-of-type {\n        vertical-align: middle;\n    }\n\n    .dataframe tbody tr th {\n        vertical-align: top;\n    }\n\n    .dataframe thead th {\n        text-align: right;\n    }\n</style>\n<table border=\"1\" class=\"dataframe\">\n  <thead>\n    <tr style=\"text-align: right;\">\n      <th></th>\n      <th>chiusi</th>\n      <th>K</th>\n      <th>Ca</th>\n      <th>Ti</th>\n      <th>Cr</th>\n      <th>Mn</th>\n      <th>Fe</th>\n      <th>Zn</th>\n      <th>Rb</th>\n      <th>Sr</th>\n      <th>somma</th>\n      <th>Neural net</th>\n      <th>Nearest Neighbors</th>\n      <th>SVC</th>\n      <th>Decision Tree</th>\n      <th>Random Forest</th>\n      <th>Naive Bayes</th>\n    </tr>\n  </thead>\n  <tbody>\n    <tr>\n      <td>1.0</td>\n      <td>3_73a</td>\n      <td>23.283007</td>\n      <td>38.495939</td>\n      <td>2.937838</td>\n      <td>0.338921</td>\n      <td>0.845481</td>\n      <td>33.842670</td>\n      <td>0.125469</td>\n      <td>0.042691</td>\n      <td>0.087984</td>\n      <td>100.0</td>\n      <td>1</td>\n      <td>1</td>\n      <td>1</td>\n      <td>1</td>\n      <td>1</td>\n      <td>1</td>\n    </tr>\n    <tr>\n      <td>NaN</td>\n      <td>3_73c(retro)</td>\n      <td>22.487569</td>\n      <td>44.453934</td>\n      <td>2.955614</td>\n      <td>0.356781</td>\n      <td>0.672057</td>\n      <td>28.840183</td>\n      <td>0.081413</td>\n      <td>0.047092</td>\n      <td>0.105358</td>\n      <td>100.0</td>\n      <td>1</td>\n      <td>1</td>\n      <td>1</td>\n      <td>1</td>\n      <td>1</td>\n      <td>1</td>\n    </tr>\n    <tr>\n      <td>NaN</td>\n      <td>3_73c</td>\n      <td>24.775252</td>\n      <td>42.840387</td>\n      <td>2.716968</td>\n      <td>0.286558</td>\n      <td>0.709064</td>\n      <td>28.449856</td>\n      <td>0.088633</td>\n      <td>0.051314</td>\n      <td>0.081969</td>\n      <td>100.0</td>\n      <td>1</td>\n      <td>1</td>\n      <td>1</td>\n      <td>1</td>\n      <td>1</td>\n      <td>1</td>\n    </tr>\n    <tr>\n      <td>NaN</td>\n      <td>3_73(retro)</td>\n      <td>24.784656</td>\n      <td>42.597910</td>\n      <td>3.376594</td>\n      <td>0.321580</td>\n      <td>0.723556</td>\n      <td>27.885609</td>\n      <td>0.114850</td>\n      <td>0.057425</td>\n      <td>0.137820</td>\n      <td>100.0</td>\n      <td>1</td>\n      <td>1</td>\n      <td>1</td>\n      <td>1</td>\n      <td>1</td>\n      <td>1</td>\n    </tr>\n    <tr>\n      <td>2.0</td>\n      <td>3_204a</td>\n      <td>12.837806</td>\n      <td>59.694249</td>\n      <td>0.544211</td>\n      <td>0.283734</td>\n      <td>0.595377</td>\n      <td>25.779494</td>\n      <td>0.125587</td>\n      <td>0.043413</td>\n      <td>0.096129</td>\n      <td>100.0</td>\n      <td>1</td>\n      <td>1</td>\n      <td>1</td>\n      <td>1</td>\n      <td>1</td>\n      <td>1</td>\n    </tr>\n    <tr>\n      <td>...</td>\n      <td>...</td>\n      <td>...</td>\n      <td>...</td>\n      <td>...</td>\n      <td>...</td>\n      <td>...</td>\n      <td>...</td>\n      <td>...</td>\n      <td>...</td>\n      <td>...</td>\n      <td>...</td>\n      <td>...</td>\n      <td>...</td>\n      <td>...</td>\n      <td>...</td>\n      <td>...</td>\n      <td>...</td>\n    </tr>\n    <tr>\n      <td>NaN</td>\n      <td>v6b</td>\n      <td>25.347120</td>\n      <td>22.422452</td>\n      <td>4.549483</td>\n      <td>0.709010</td>\n      <td>2.924668</td>\n      <td>43.604136</td>\n      <td>0.236337</td>\n      <td>0.103397</td>\n      <td>0.103397</td>\n      <td>100.0</td>\n      <td>0</td>\n      <td>0</td>\n      <td>0</td>\n      <td>0</td>\n      <td>0</td>\n      <td>0</td>\n    </tr>\n    <tr>\n      <td>8.0</td>\n      <td>A10-3bis</td>\n      <td>23.985746</td>\n      <td>40.131579</td>\n      <td>3.234649</td>\n      <td>0.603070</td>\n      <td>0.822368</td>\n      <td>30.838816</td>\n      <td>0.082237</td>\n      <td>0.109649</td>\n      <td>0.191886</td>\n      <td>100.0</td>\n      <td>0</td>\n      <td>1</td>\n      <td>1</td>\n      <td>0</td>\n      <td>0</td>\n      <td>0</td>\n    </tr>\n    <tr>\n      <td>NaN</td>\n      <td>_2</td>\n      <td>24.584293</td>\n      <td>40.726529</td>\n      <td>3.351241</td>\n      <td>0.588386</td>\n      <td>0.920952</td>\n      <td>29.368125</td>\n      <td>0.076746</td>\n      <td>0.127910</td>\n      <td>0.255820</td>\n      <td>100.0</td>\n      <td>0</td>\n      <td>1</td>\n      <td>0</td>\n      <td>0</td>\n      <td>0</td>\n      <td>0</td>\n    </tr>\n    <tr>\n      <td>9.0</td>\n      <td>c258-12</td>\n      <td>31.006369</td>\n      <td>8.458599</td>\n      <td>5.299363</td>\n      <td>0.891720</td>\n      <td>1.949045</td>\n      <td>52.101911</td>\n      <td>0.089172</td>\n      <td>0.101911</td>\n      <td>0.101911</td>\n      <td>100.0</td>\n      <td>0</td>\n      <td>0</td>\n      <td>0</td>\n      <td>0</td>\n      <td>0</td>\n      <td>0</td>\n    </tr>\n    <tr>\n      <td>NaN</td>\n      <td>_1</td>\n      <td>31.079342</td>\n      <td>8.177269</td>\n      <td>4.960686</td>\n      <td>0.886347</td>\n      <td>1.944246</td>\n      <td>52.651894</td>\n      <td>0.100071</td>\n      <td>0.100071</td>\n      <td>0.100071</td>\n      <td>100.0</td>\n      <td>0</td>\n      <td>0</td>\n      <td>0</td>\n      <td>0</td>\n      <td>0</td>\n      <td>0</td>\n    </tr>\n  </tbody>\n</table>\n<p>112 rows × 17 columns</p>\n</div>"
     },
     "metadata": {},
     "execution_count": 6
    }
   ],
   "source": [
    "def from_01_to_tarq (x):\n",
    "    if x == 0:\n",
    "        return 'non tarquina'\n",
    "    else:\n",
    "        return 'tarquina'\n",
    "\n",
    "classified = pd.concat([pd.read_excel('../dati_ceramiche_classi.xlsx', index_col=0),pd.read_excel('../dati_ceramiche_classi.xlsx', index_col=0, sheet_name=1)])\n",
    "for name, classifier in cfs.items():\n",
    "    y = classifier.predict(X)\n",
    "    classified[name] = y\n",
    "\n",
    "classified"
   ]
  },
  {
   "cell_type": "code",
   "execution_count": 7,
   "metadata": {
    "tags": []
   },
   "outputs": [
    {
     "output_type": "execute_result",
     "data": {
      "text/plain": [
       "           chiusi          K         Ca        Ti        Cr        Mn  \\\n",
       "1.0         3_73a  23.283007  38.495939  2.937838  0.338921  0.845481   \n",
       "NaN  3_73c(retro)  22.487569  44.453934  2.955614  0.356781  0.672057   \n",
       "NaN         3_73c  24.775252  42.840387  2.716968  0.286558  0.709064   \n",
       "NaN   3_73(retro)  24.784656  42.597910  3.376594  0.321580  0.723556   \n",
       "2.0        3_204a  12.837806  59.694249  0.544211  0.283734  0.595377   \n",
       "..            ...        ...        ...       ...       ...       ...   \n",
       "NaN           v6b  25.347120  22.422452  4.549483  0.709010  2.924668   \n",
       "8.0      A10-3bis  23.985746  40.131579  3.234649  0.603070  0.822368   \n",
       "NaN            _2  24.584293  40.726529  3.351241  0.588386  0.920952   \n",
       "9.0       c258-12  31.006369   8.458599  5.299363  0.891720  1.949045   \n",
       "NaN            _1  31.079342   8.177269  4.960686  0.886347  1.944246   \n",
       "\n",
       "            Fe        Zn        Rb        Sr  somma  Neural net  \\\n",
       "1.0  33.842670  0.125469  0.042691  0.087984  100.0           1   \n",
       "NaN  28.840183  0.081413  0.047092  0.105358  100.0           1   \n",
       "NaN  28.449856  0.088633  0.051314  0.081969  100.0           1   \n",
       "NaN  27.885609  0.114850  0.057425  0.137820  100.0           1   \n",
       "2.0  25.779494  0.125587  0.043413  0.096129  100.0           1   \n",
       "..         ...       ...       ...       ...    ...         ...   \n",
       "NaN  43.604136  0.236337  0.103397  0.103397  100.0           0   \n",
       "8.0  30.838816  0.082237  0.109649  0.191886  100.0           0   \n",
       "NaN  29.368125  0.076746  0.127910  0.255820  100.0           0   \n",
       "9.0  52.101911  0.089172  0.101911  0.101911  100.0           0   \n",
       "NaN  52.651894  0.100071  0.100071  0.100071  100.0           0   \n",
       "\n",
       "     Nearest Neighbors  SVC  Decision Tree  Random Forest  Naive Bayes  \\\n",
       "1.0                  1    1              1              1            1   \n",
       "NaN                  1    1              1              1            1   \n",
       "NaN                  1    1              1              1            1   \n",
       "NaN                  1    1              1              1            1   \n",
       "2.0                  1    1              1              1            1   \n",
       "..                 ...  ...            ...            ...          ...   \n",
       "NaN                  0    0              0              0            0   \n",
       "8.0                  1    1              0              0            0   \n",
       "NaN                  1    0              0              0            0   \n",
       "9.0                  0    0              0              0            0   \n",
       "NaN                  0    0              0              0            0   \n",
       "\n",
       "     valutazione  confidence  \n",
       "1.0            1    1.000000  \n",
       "NaN            1    1.000000  \n",
       "NaN            1    1.000000  \n",
       "NaN            1    1.000000  \n",
       "2.0            1    1.000000  \n",
       "..           ...         ...  \n",
       "NaN            0    1.000000  \n",
       "8.0            0    0.666667  \n",
       "NaN            0    0.833333  \n",
       "9.0            0    1.000000  \n",
       "NaN            0    1.000000  \n",
       "\n",
       "[112 rows x 19 columns]"
      ],
      "text/html": "<div>\n<style scoped>\n    .dataframe tbody tr th:only-of-type {\n        vertical-align: middle;\n    }\n\n    .dataframe tbody tr th {\n        vertical-align: top;\n    }\n\n    .dataframe thead th {\n        text-align: right;\n    }\n</style>\n<table border=\"1\" class=\"dataframe\">\n  <thead>\n    <tr style=\"text-align: right;\">\n      <th></th>\n      <th>chiusi</th>\n      <th>K</th>\n      <th>Ca</th>\n      <th>Ti</th>\n      <th>Cr</th>\n      <th>Mn</th>\n      <th>Fe</th>\n      <th>Zn</th>\n      <th>Rb</th>\n      <th>Sr</th>\n      <th>somma</th>\n      <th>Neural net</th>\n      <th>Nearest Neighbors</th>\n      <th>SVC</th>\n      <th>Decision Tree</th>\n      <th>Random Forest</th>\n      <th>Naive Bayes</th>\n      <th>valutazione</th>\n      <th>confidence</th>\n    </tr>\n  </thead>\n  <tbody>\n    <tr>\n      <td>1.0</td>\n      <td>3_73a</td>\n      <td>23.283007</td>\n      <td>38.495939</td>\n      <td>2.937838</td>\n      <td>0.338921</td>\n      <td>0.845481</td>\n      <td>33.842670</td>\n      <td>0.125469</td>\n      <td>0.042691</td>\n      <td>0.087984</td>\n      <td>100.0</td>\n      <td>1</td>\n      <td>1</td>\n      <td>1</td>\n      <td>1</td>\n      <td>1</td>\n      <td>1</td>\n      <td>1</td>\n      <td>1.000000</td>\n    </tr>\n    <tr>\n      <td>NaN</td>\n      <td>3_73c(retro)</td>\n      <td>22.487569</td>\n      <td>44.453934</td>\n      <td>2.955614</td>\n      <td>0.356781</td>\n      <td>0.672057</td>\n      <td>28.840183</td>\n      <td>0.081413</td>\n      <td>0.047092</td>\n      <td>0.105358</td>\n      <td>100.0</td>\n      <td>1</td>\n      <td>1</td>\n      <td>1</td>\n      <td>1</td>\n      <td>1</td>\n      <td>1</td>\n      <td>1</td>\n      <td>1.000000</td>\n    </tr>\n    <tr>\n      <td>NaN</td>\n      <td>3_73c</td>\n      <td>24.775252</td>\n      <td>42.840387</td>\n      <td>2.716968</td>\n      <td>0.286558</td>\n      <td>0.709064</td>\n      <td>28.449856</td>\n      <td>0.088633</td>\n      <td>0.051314</td>\n      <td>0.081969</td>\n      <td>100.0</td>\n      <td>1</td>\n      <td>1</td>\n      <td>1</td>\n      <td>1</td>\n      <td>1</td>\n      <td>1</td>\n      <td>1</td>\n      <td>1.000000</td>\n    </tr>\n    <tr>\n      <td>NaN</td>\n      <td>3_73(retro)</td>\n      <td>24.784656</td>\n      <td>42.597910</td>\n      <td>3.376594</td>\n      <td>0.321580</td>\n      <td>0.723556</td>\n      <td>27.885609</td>\n      <td>0.114850</td>\n      <td>0.057425</td>\n      <td>0.137820</td>\n      <td>100.0</td>\n      <td>1</td>\n      <td>1</td>\n      <td>1</td>\n      <td>1</td>\n      <td>1</td>\n      <td>1</td>\n      <td>1</td>\n      <td>1.000000</td>\n    </tr>\n    <tr>\n      <td>2.0</td>\n      <td>3_204a</td>\n      <td>12.837806</td>\n      <td>59.694249</td>\n      <td>0.544211</td>\n      <td>0.283734</td>\n      <td>0.595377</td>\n      <td>25.779494</td>\n      <td>0.125587</td>\n      <td>0.043413</td>\n      <td>0.096129</td>\n      <td>100.0</td>\n      <td>1</td>\n      <td>1</td>\n      <td>1</td>\n      <td>1</td>\n      <td>1</td>\n      <td>1</td>\n      <td>1</td>\n      <td>1.000000</td>\n    </tr>\n    <tr>\n      <td>...</td>\n      <td>...</td>\n      <td>...</td>\n      <td>...</td>\n      <td>...</td>\n      <td>...</td>\n      <td>...</td>\n      <td>...</td>\n      <td>...</td>\n      <td>...</td>\n      <td>...</td>\n      <td>...</td>\n      <td>...</td>\n      <td>...</td>\n      <td>...</td>\n      <td>...</td>\n      <td>...</td>\n      <td>...</td>\n      <td>...</td>\n      <td>...</td>\n    </tr>\n    <tr>\n      <td>NaN</td>\n      <td>v6b</td>\n      <td>25.347120</td>\n      <td>22.422452</td>\n      <td>4.549483</td>\n      <td>0.709010</td>\n      <td>2.924668</td>\n      <td>43.604136</td>\n      <td>0.236337</td>\n      <td>0.103397</td>\n      <td>0.103397</td>\n      <td>100.0</td>\n      <td>0</td>\n      <td>0</td>\n      <td>0</td>\n      <td>0</td>\n      <td>0</td>\n      <td>0</td>\n      <td>0</td>\n      <td>1.000000</td>\n    </tr>\n    <tr>\n      <td>8.0</td>\n      <td>A10-3bis</td>\n      <td>23.985746</td>\n      <td>40.131579</td>\n      <td>3.234649</td>\n      <td>0.603070</td>\n      <td>0.822368</td>\n      <td>30.838816</td>\n      <td>0.082237</td>\n      <td>0.109649</td>\n      <td>0.191886</td>\n      <td>100.0</td>\n      <td>0</td>\n      <td>1</td>\n      <td>1</td>\n      <td>0</td>\n      <td>0</td>\n      <td>0</td>\n      <td>0</td>\n      <td>0.666667</td>\n    </tr>\n    <tr>\n      <td>NaN</td>\n      <td>_2</td>\n      <td>24.584293</td>\n      <td>40.726529</td>\n      <td>3.351241</td>\n      <td>0.588386</td>\n      <td>0.920952</td>\n      <td>29.368125</td>\n      <td>0.076746</td>\n      <td>0.127910</td>\n      <td>0.255820</td>\n      <td>100.0</td>\n      <td>0</td>\n      <td>1</td>\n      <td>0</td>\n      <td>0</td>\n      <td>0</td>\n      <td>0</td>\n      <td>0</td>\n      <td>0.833333</td>\n    </tr>\n    <tr>\n      <td>9.0</td>\n      <td>c258-12</td>\n      <td>31.006369</td>\n      <td>8.458599</td>\n      <td>5.299363</td>\n      <td>0.891720</td>\n      <td>1.949045</td>\n      <td>52.101911</td>\n      <td>0.089172</td>\n      <td>0.101911</td>\n      <td>0.101911</td>\n      <td>100.0</td>\n      <td>0</td>\n      <td>0</td>\n      <td>0</td>\n      <td>0</td>\n      <td>0</td>\n      <td>0</td>\n      <td>0</td>\n      <td>1.000000</td>\n    </tr>\n    <tr>\n      <td>NaN</td>\n      <td>_1</td>\n      <td>31.079342</td>\n      <td>8.177269</td>\n      <td>4.960686</td>\n      <td>0.886347</td>\n      <td>1.944246</td>\n      <td>52.651894</td>\n      <td>0.100071</td>\n      <td>0.100071</td>\n      <td>0.100071</td>\n      <td>100.0</td>\n      <td>0</td>\n      <td>0</td>\n      <td>0</td>\n      <td>0</td>\n      <td>0</td>\n      <td>0</td>\n      <td>0</td>\n      <td>1.000000</td>\n    </tr>\n  </tbody>\n</table>\n<p>112 rows × 19 columns</p>\n</div>"
     },
     "metadata": {},
     "execution_count": 7
    }
   ],
   "source": [
    "valutazione = []\n",
    "confidence = []\n",
    "for _, s in classified.iloc[:, -6:].iterrows():\n",
    "    if sum(s)>=3: #Nel caso siano 3 e 3 considera tarquinia perchè è la classe più numerosa\n",
    "        valutazione.append(1)\n",
    "        confidence.append(sum(s)/6)\n",
    "    else:\n",
    "        valutazione.append(0)\n",
    "        confidence.append(1 - sum(s)/6)\n",
    "\n",
    "classified['valutazione'] = valutazione\n",
    "classified['confidence'] = confidence\n",
    "classified"
   ]
  },
  {
   "cell_type": "code",
   "execution_count": 17,
   "metadata": {
    "tags": []
   },
   "outputs": [
    {
     "output_type": "stream",
     "name": "stdout",
     "text": [
      "3_73a\n3_204a\n3_607a'\n3_610a\n13_4a\n28_66a\n40_8a\n48_23a\n59_35a\n80_25a\n88_74a\n121_2a\n170_2a\n180_96a'\n186_2a\n193_43a'\n199_33a\n227_35a\n274_7a\nA10_25\nc3-738\nc30-110\nc203-1\nc281-60_1\n72\nv1a(big)\nv2a\nv3c\nv4a\nv5a\nv6a\nA10-3bis\nc258-12\n"
     ]
    }
   ],
   "source": [
    "for i, row in classified.iterrows(): \n",
    "    if pd.notna(i): #Se la row è il primo valore di un nuovo reperto\n",
    "        print(row[0])"
   ]
  },
  {
   "cell_type": "code",
   "execution_count": 19,
   "metadata": {},
   "outputs": [],
   "source": [
    "current = None\n",
    "perRepVal = []\n",
    "perRepConf = []\n",
    "for i, row in classified.iterrows(): \n",
    "    if pd.notna(i): #Se la row è il primo valore di un nuovo reperto\n",
    "        if not current is None: #E non è il primo\n",
    "            #Calcola la valutazione e confidence del reperto precedente\n",
    "            # print(current)\n",
    "            # print()\n",
    "            # print()\n",
    "            space = [np.nan]*(len(current)//6-1)\n",
    "            if current.sum()>=len(current)//2: #Nel caso siano pari considera tarquinia perchè è la classe più numerosa\n",
    "                perRepVal += [1] + space\n",
    "                perRepConf += [current.sum()/len(current)] + space\n",
    "\n",
    "            else:\n",
    "                perRepVal += [0] + space\n",
    "                perRepConf += [1 - current.sum()/len(current)] + space\n",
    "        # try:\n",
    "        #     print(len(current)/6)\n",
    "        # except:\n",
    "        #     pass\n",
    "        # print()\n",
    "        # print()\n",
    "        current = row[12:18] #Comincia a salvare il nuovo reperto\n",
    "    else:\n",
    "        current = current.append(row[12:18]) # aggiungi valori a reperto corrente\n",
    "\n",
    "space = [np.nan]*(len(current)//6-1)\n",
    "if current.sum()>=3: #Nel caso siano 3 e 3 considera tarquinia perchè è la classe più numerosa\n",
    "    perRepVal += [1] + space\n",
    "    perRepConf += [current.sum()/len(current)] + space\n",
    "\n",
    "else:\n",
    "    perRepVal += [0] + space\n",
    "    perRepConf += [1 - current.sum()/len(current)] + space\n"
   ]
  },
  {
   "cell_type": "code",
   "execution_count": 20,
   "metadata": {},
   "outputs": [
    {
     "output_type": "execute_result",
     "data": {
      "text/plain": [
       "           chiusi          K         Ca        Ti        Cr        Mn  \\\n",
       "1.0         3_73a  23.283007  38.495939  2.937838  0.338921  0.845481   \n",
       "NaN  3_73c(retro)  22.487569  44.453934  2.955614  0.356781  0.672057   \n",
       "NaN         3_73c  24.775252  42.840387  2.716968  0.286558  0.709064   \n",
       "NaN   3_73(retro)  24.784656  42.597910  3.376594  0.321580  0.723556   \n",
       "2.0        3_204a  12.837806  59.694249  0.544211  0.283734  0.595377   \n",
       "..            ...        ...        ...       ...       ...       ...   \n",
       "NaN           v6b  25.347120  22.422452  4.549483  0.709010  2.924668   \n",
       "8.0      A10-3bis  23.985746  40.131579  3.234649  0.603070  0.822368   \n",
       "NaN            _2  24.584293  40.726529  3.351241  0.588386  0.920952   \n",
       "9.0       c258-12  31.006369   8.458599  5.299363  0.891720  1.949045   \n",
       "NaN            _1  31.079342   8.177269  4.960686  0.886347  1.944246   \n",
       "\n",
       "            Fe        Zn        Rb        Sr  ...  Neural net  \\\n",
       "1.0  33.842670  0.125469  0.042691  0.087984  ...           1   \n",
       "NaN  28.840183  0.081413  0.047092  0.105358  ...           1   \n",
       "NaN  28.449856  0.088633  0.051314  0.081969  ...           1   \n",
       "NaN  27.885609  0.114850  0.057425  0.137820  ...           1   \n",
       "2.0  25.779494  0.125587  0.043413  0.096129  ...           1   \n",
       "..         ...       ...       ...       ...  ...         ...   \n",
       "NaN  43.604136  0.236337  0.103397  0.103397  ...           0   \n",
       "8.0  30.838816  0.082237  0.109649  0.191886  ...           0   \n",
       "NaN  29.368125  0.076746  0.127910  0.255820  ...           0   \n",
       "9.0  52.101911  0.089172  0.101911  0.101911  ...           0   \n",
       "NaN  52.651894  0.100071  0.100071  0.100071  ...           0   \n",
       "\n",
       "     Nearest Neighbors  SVC  Decision Tree  Random Forest  Naive Bayes  \\\n",
       "1.0                  1    1              1              1            1   \n",
       "NaN                  1    1              1              1            1   \n",
       "NaN                  1    1              1              1            1   \n",
       "NaN                  1    1              1              1            1   \n",
       "2.0                  1    1              1              1            1   \n",
       "..                 ...  ...            ...            ...          ...   \n",
       "NaN                  0    0              0              0            0   \n",
       "8.0                  1    1              0              0            0   \n",
       "NaN                  1    0              0              0            0   \n",
       "9.0                  0    0              0              0            0   \n",
       "NaN                  0    0              0              0            0   \n",
       "\n",
       "     valutazione  confidence  perRepVal  perRepConf  \n",
       "1.0            1    1.000000        1.0        1.00  \n",
       "NaN            1    1.000000        NaN         NaN  \n",
       "NaN            1    1.000000        NaN         NaN  \n",
       "NaN            1    1.000000        NaN         NaN  \n",
       "2.0            1    1.000000        1.0        1.00  \n",
       "..           ...         ...        ...         ...  \n",
       "NaN            0    1.000000        NaN         NaN  \n",
       "8.0            0    0.666667        0.0        0.75  \n",
       "NaN            0    0.833333        NaN         NaN  \n",
       "9.0            0    1.000000        0.0        1.00  \n",
       "NaN            0    1.000000        NaN         NaN  \n",
       "\n",
       "[112 rows x 21 columns]"
      ],
      "text/html": "<div>\n<style scoped>\n    .dataframe tbody tr th:only-of-type {\n        vertical-align: middle;\n    }\n\n    .dataframe tbody tr th {\n        vertical-align: top;\n    }\n\n    .dataframe thead th {\n        text-align: right;\n    }\n</style>\n<table border=\"1\" class=\"dataframe\">\n  <thead>\n    <tr style=\"text-align: right;\">\n      <th></th>\n      <th>chiusi</th>\n      <th>K</th>\n      <th>Ca</th>\n      <th>Ti</th>\n      <th>Cr</th>\n      <th>Mn</th>\n      <th>Fe</th>\n      <th>Zn</th>\n      <th>Rb</th>\n      <th>Sr</th>\n      <th>...</th>\n      <th>Neural net</th>\n      <th>Nearest Neighbors</th>\n      <th>SVC</th>\n      <th>Decision Tree</th>\n      <th>Random Forest</th>\n      <th>Naive Bayes</th>\n      <th>valutazione</th>\n      <th>confidence</th>\n      <th>perRepVal</th>\n      <th>perRepConf</th>\n    </tr>\n  </thead>\n  <tbody>\n    <tr>\n      <td>1.0</td>\n      <td>3_73a</td>\n      <td>23.283007</td>\n      <td>38.495939</td>\n      <td>2.937838</td>\n      <td>0.338921</td>\n      <td>0.845481</td>\n      <td>33.842670</td>\n      <td>0.125469</td>\n      <td>0.042691</td>\n      <td>0.087984</td>\n      <td>...</td>\n      <td>1</td>\n      <td>1</td>\n      <td>1</td>\n      <td>1</td>\n      <td>1</td>\n      <td>1</td>\n      <td>1</td>\n      <td>1.000000</td>\n      <td>1.0</td>\n      <td>1.00</td>\n    </tr>\n    <tr>\n      <td>NaN</td>\n      <td>3_73c(retro)</td>\n      <td>22.487569</td>\n      <td>44.453934</td>\n      <td>2.955614</td>\n      <td>0.356781</td>\n      <td>0.672057</td>\n      <td>28.840183</td>\n      <td>0.081413</td>\n      <td>0.047092</td>\n      <td>0.105358</td>\n      <td>...</td>\n      <td>1</td>\n      <td>1</td>\n      <td>1</td>\n      <td>1</td>\n      <td>1</td>\n      <td>1</td>\n      <td>1</td>\n      <td>1.000000</td>\n      <td>NaN</td>\n      <td>NaN</td>\n    </tr>\n    <tr>\n      <td>NaN</td>\n      <td>3_73c</td>\n      <td>24.775252</td>\n      <td>42.840387</td>\n      <td>2.716968</td>\n      <td>0.286558</td>\n      <td>0.709064</td>\n      <td>28.449856</td>\n      <td>0.088633</td>\n      <td>0.051314</td>\n      <td>0.081969</td>\n      <td>...</td>\n      <td>1</td>\n      <td>1</td>\n      <td>1</td>\n      <td>1</td>\n      <td>1</td>\n      <td>1</td>\n      <td>1</td>\n      <td>1.000000</td>\n      <td>NaN</td>\n      <td>NaN</td>\n    </tr>\n    <tr>\n      <td>NaN</td>\n      <td>3_73(retro)</td>\n      <td>24.784656</td>\n      <td>42.597910</td>\n      <td>3.376594</td>\n      <td>0.321580</td>\n      <td>0.723556</td>\n      <td>27.885609</td>\n      <td>0.114850</td>\n      <td>0.057425</td>\n      <td>0.137820</td>\n      <td>...</td>\n      <td>1</td>\n      <td>1</td>\n      <td>1</td>\n      <td>1</td>\n      <td>1</td>\n      <td>1</td>\n      <td>1</td>\n      <td>1.000000</td>\n      <td>NaN</td>\n      <td>NaN</td>\n    </tr>\n    <tr>\n      <td>2.0</td>\n      <td>3_204a</td>\n      <td>12.837806</td>\n      <td>59.694249</td>\n      <td>0.544211</td>\n      <td>0.283734</td>\n      <td>0.595377</td>\n      <td>25.779494</td>\n      <td>0.125587</td>\n      <td>0.043413</td>\n      <td>0.096129</td>\n      <td>...</td>\n      <td>1</td>\n      <td>1</td>\n      <td>1</td>\n      <td>1</td>\n      <td>1</td>\n      <td>1</td>\n      <td>1</td>\n      <td>1.000000</td>\n      <td>1.0</td>\n      <td>1.00</td>\n    </tr>\n    <tr>\n      <td>...</td>\n      <td>...</td>\n      <td>...</td>\n      <td>...</td>\n      <td>...</td>\n      <td>...</td>\n      <td>...</td>\n      <td>...</td>\n      <td>...</td>\n      <td>...</td>\n      <td>...</td>\n      <td>...</td>\n      <td>...</td>\n      <td>...</td>\n      <td>...</td>\n      <td>...</td>\n      <td>...</td>\n      <td>...</td>\n      <td>...</td>\n      <td>...</td>\n      <td>...</td>\n      <td>...</td>\n    </tr>\n    <tr>\n      <td>NaN</td>\n      <td>v6b</td>\n      <td>25.347120</td>\n      <td>22.422452</td>\n      <td>4.549483</td>\n      <td>0.709010</td>\n      <td>2.924668</td>\n      <td>43.604136</td>\n      <td>0.236337</td>\n      <td>0.103397</td>\n      <td>0.103397</td>\n      <td>...</td>\n      <td>0</td>\n      <td>0</td>\n      <td>0</td>\n      <td>0</td>\n      <td>0</td>\n      <td>0</td>\n      <td>0</td>\n      <td>1.000000</td>\n      <td>NaN</td>\n      <td>NaN</td>\n    </tr>\n    <tr>\n      <td>8.0</td>\n      <td>A10-3bis</td>\n      <td>23.985746</td>\n      <td>40.131579</td>\n      <td>3.234649</td>\n      <td>0.603070</td>\n      <td>0.822368</td>\n      <td>30.838816</td>\n      <td>0.082237</td>\n      <td>0.109649</td>\n      <td>0.191886</td>\n      <td>...</td>\n      <td>0</td>\n      <td>1</td>\n      <td>1</td>\n      <td>0</td>\n      <td>0</td>\n      <td>0</td>\n      <td>0</td>\n      <td>0.666667</td>\n      <td>0.0</td>\n      <td>0.75</td>\n    </tr>\n    <tr>\n      <td>NaN</td>\n      <td>_2</td>\n      <td>24.584293</td>\n      <td>40.726529</td>\n      <td>3.351241</td>\n      <td>0.588386</td>\n      <td>0.920952</td>\n      <td>29.368125</td>\n      <td>0.076746</td>\n      <td>0.127910</td>\n      <td>0.255820</td>\n      <td>...</td>\n      <td>0</td>\n      <td>1</td>\n      <td>0</td>\n      <td>0</td>\n      <td>0</td>\n      <td>0</td>\n      <td>0</td>\n      <td>0.833333</td>\n      <td>NaN</td>\n      <td>NaN</td>\n    </tr>\n    <tr>\n      <td>9.0</td>\n      <td>c258-12</td>\n      <td>31.006369</td>\n      <td>8.458599</td>\n      <td>5.299363</td>\n      <td>0.891720</td>\n      <td>1.949045</td>\n      <td>52.101911</td>\n      <td>0.089172</td>\n      <td>0.101911</td>\n      <td>0.101911</td>\n      <td>...</td>\n      <td>0</td>\n      <td>0</td>\n      <td>0</td>\n      <td>0</td>\n      <td>0</td>\n      <td>0</td>\n      <td>0</td>\n      <td>1.000000</td>\n      <td>0.0</td>\n      <td>1.00</td>\n    </tr>\n    <tr>\n      <td>NaN</td>\n      <td>_1</td>\n      <td>31.079342</td>\n      <td>8.177269</td>\n      <td>4.960686</td>\n      <td>0.886347</td>\n      <td>1.944246</td>\n      <td>52.651894</td>\n      <td>0.100071</td>\n      <td>0.100071</td>\n      <td>0.100071</td>\n      <td>...</td>\n      <td>0</td>\n      <td>0</td>\n      <td>0</td>\n      <td>0</td>\n      <td>0</td>\n      <td>0</td>\n      <td>0</td>\n      <td>1.000000</td>\n      <td>NaN</td>\n      <td>NaN</td>\n    </tr>\n  </tbody>\n</table>\n<p>112 rows × 21 columns</p>\n</div>"
     },
     "metadata": {},
     "execution_count": 20
    }
   ],
   "source": [
    "classified['perRepVal'] = perRepVal\n",
    "classified['perRepConf'] = perRepConf\n",
    "classified"
   ]
  },
  {
   "cell_type": "code",
   "execution_count": 21,
   "metadata": {},
   "outputs": [],
   "source": [
    "classified.to_excel('../dati_ceramiche_riclassificati.xlsx')"
   ]
  }
 ]
}