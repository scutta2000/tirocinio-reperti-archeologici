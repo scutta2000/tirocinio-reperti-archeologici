{
 "metadata": {
  "language_info": {
   "codemirror_mode": {
    "name": "ipython",
    "version": 3
   },
   "file_extension": ".py",
   "mimetype": "text/x-python",
   "name": "python",
   "nbconvert_exporter": "python",
   "pygments_lexer": "ipython3",
   "version": "3.7.4-final"
  },
  "orig_nbformat": 2,
  "kernelspec": {
   "name": "python3",
   "display_name": "Python 3.7.4 64-bit ('tirocinio-venv')",
   "metadata": {
    "interpreter": {
     "hash": "d9c02c2e139538f2991382e36e203214fcf5e76a6c6a57ce348551be64015c07"
    }
   }
  }
 },
 "nbformat": 4,
 "nbformat_minor": 2,
 "cells": [
  {
   "cell_type": "code",
   "execution_count": 1,
   "metadata": {},
   "outputs": [],
   "source": [
    "import sys; sys.path.insert(0, '..')"
   ]
  },
  {
   "cell_type": "code",
   "execution_count": 2,
   "metadata": {},
   "outputs": [],
   "source": [
    "import numpy as np\n",
    "import matplotlib.pyplot as plt\n",
    "from matplotlib.colors import ListedColormap\n",
    "from sklearn.metrics import accuracy_score, make_scorer, confusion_matrix\n",
    "from sklearn.model_selection import (GridSearchCV, cross_validate,\n",
    "                                     train_test_split)\n",
    "from sklearn.preprocessing import StandardScaler\n",
    "from sklearn.neural_network import MLPClassifier\n",
    "from sklearn.neighbors import KNeighborsClassifier\n",
    "from sklearn.svm import SVC\n",
    "from sklearn.gaussian_process.kernels import RBF\n",
    "from sklearn.tree import DecisionTreeClassifier\n",
    "from sklearn.ensemble import RandomForestClassifier\n",
    "from sklearn.naive_bayes import GaussianNB\n",
    "from sklearn.discriminant_analysis import QuadraticDiscriminantAnalysis\n",
    "from scripts.get_data import ceramiche_DB\n",
    "from tqdm import tqdm"
   ]
  },
  {
   "cell_type": "code",
   "execution_count": 5,
   "metadata": {},
   "outputs": [],
   "source": [
    "classifiers = {\n",
    "    \"Neural net\": (\n",
    "                MLPClassifier(),\n",
    "                {\n",
    "                    'hidden_layer_sizes': list(range(2,30)),\n",
    "                    'activation': ['identity', 'logistic', 'tanh', 'relu'],\n",
    "                }\n",
    "            ),\n",
    "\n",
    "\n",
    "    \"Nearest Neighbors\": (\n",
    "                    KNeighborsClassifier(),\n",
    "                    {'n_neighbors': list(range(1,11)), 'weights': ['uniform', 'distance']}\n",
    "                ),\n",
    "    \"SVC\": (\n",
    "                    SVC(),\n",
    "                    [{\n",
    "                        'kernel': ['linear', 'rbf', 'sigmoid'],\n",
    "                        'C': [x/10 for x in range(1, 11)],\n",
    "                    },\n",
    "                    {\n",
    "                        'kernel': ['poly'],\n",
    "                        'degree': list(range(2,6)),\n",
    "                        'C': [x/10 for x in range(1, 11)],\n",
    "                    }]\n",
    "                ),\n",
    "    \"Decision Tree\": (\n",
    "                    DecisionTreeClassifier(),\n",
    "                    {\n",
    "                        'criterion': ['gini', 'entropy'], \n",
    "                        'min_samples_split':list(range(2,11)),\n",
    "                        'min_samples_leaf': list(range(1,6)),\n",
    "                    }\n",
    "                ),\n",
    "    \"Random Forest\": (\n",
    "                    RandomForestClassifier(n_jobs=-1),\n",
    "                    {\n",
    "                        'n_estimators': list(range(1, 101, 10)), \n",
    "                        'criterion': ['gini', 'entropy'], \n",
    "                        'min_samples_split':list(range(2, 11)),\n",
    "                        'min_samples_leaf': list(range(1, 6)),\n",
    "                        'oob_score': [True, False],\n",
    "                    }\n",
    "                ),\n",
    "    \"Naive Bayes\": (\n",
    "                    GaussianNB(),\n",
    "                    {}\n",
    "                ),\n",
    "\n",
    "    # \"Gaussian Process\": GaussianProcessClassifier(1.0 * RBF(1.0)),\n",
    "    # \"AdaBoost\": AdaBoostClassifier(),\n",
    "    # \"QDA\": QuadraticDiscriminantAnalysis(),\n",
    "}"
   ]
  },
  {
   "cell_type": "code",
   "execution_count": 6,
   "metadata": {},
   "outputs": [],
   "source": [
    "def sensibility(y_true, y_predict):\n",
    "    c_matrix = confusion_matrix(y_true, y_predict)\n",
    "    return c_matrix[1][1]/sum(c_matrix[1])\n",
    "\n",
    "\n",
    "def specificity(y_true, y_predict):\n",
    "    c_matrix = confusion_matrix(y_true, y_predict)\n",
    "    return c_matrix[0][0]/sum(c_matrix[0])\n",
    "\n",
    "\n",
    "scores = {\n",
    "    'sensibility' : make_scorer(sensibility, greater_is_better=True),\n",
    "    'specificity' : make_scorer(specificity, greater_is_better=True),\n",
    "    'accuracy' : make_scorer(accuracy_score, greater_is_better=True)\n",
    "}"
   ]
  },
  {
   "cell_type": "code",
   "execution_count": 7,
   "metadata": {},
   "outputs": [],
   "source": [
    "X, y = ceramiche_DB()\n",
    "X_train, X_test, y_train, y_test = train_test_split(X, y)"
   ]
  },
  {
   "cell_type": "code",
   "execution_count": 8,
   "metadata": {},
   "outputs": [
    {
     "output_type": "stream",
     "name": "stderr",
     "text": [
      "100%|██████████| 6/6 [50:44<00:00, 507.47s/it]\n"
     ]
    }
   ],
   "source": [
    "result = {}\n",
    "\n",
    "import warnings\n",
    "with warnings.catch_warnings():\n",
    "    warnings.simplefilter(\"ignore\")\n",
    "\n",
    "    for name, (clf, params) in tqdm(classifiers.items()):\n",
    "        grid = GridSearchCV(clf, params, scoring='accuracy', cv = 5, n_jobs = -1)\n",
    "        s = cross_validate(grid, X, y, cv=5, scoring = scores)\n",
    "        result[name] = s\n"
   ]
  },
  {
   "cell_type": "code",
   "execution_count": 9,
   "metadata": {},
   "outputs": [
    {
     "output_type": "stream",
     "name": "stdout",
     "text": [
      "NEURAL NET\n                                    mean                 std\n         sensibility  0.9882352941176471 0.02352941176470589\n         specificity  0.7666666666666666 0.32659863237109044\n            accuracy  0.9276679841897233  0.0844370913571189\n\n\nNEAREST NEIGHBORS\n                                    mean                 std\n         sensibility  0.9522058823529411 0.06874115230894264\n         specificity  0.9333333333333333 0.13333333333333336\n            accuracy  0.9466403162055336 0.05120064795165622\n\n\nSVC\n                                    mean                 std\n         sensibility                 1.0                 0.0\n         specificity  0.8666666666666666 0.16329931618554522\n            accuracy  0.9636363636363636 0.04453617714151235\n\n\nDECISION TREE\n                                    mean                 std\n         sensibility  0.9147058823529411 0.08225440533632127\n         specificity  0.9333333333333333 0.13333333333333336\n            accuracy  0.91936758893280620.051828416484287765\n\n\nRANDOM FOREST\n                                    mean                 std\n         sensibility               0.9750.049999999999999996\n         specificity  0.7666666666666667 0.24944382578492943\n            accuracy  0.9181818181818182 0.10123207932418221\n\n\nNAIVE BAYES\n                                    mean                 std\n         sensibility                 1.0                 0.0\n         specificity                 1.0                 0.0\n            accuracy                 1.0                 0.0\n\n\n"
     ]
    }
   ],
   "source": [
    "rows = ['sensibility', 'specificity', 'accuracy']\n",
    "columns = ['mean', 'std']\n",
    "\n",
    "row_format =\"{:>20}\" * (len(columns) + 1)\n",
    "col_format =\"{:>20}\" * (len(columns) + 1)\n",
    "\n",
    "for n, r in result.items():\n",
    "    print(n.upper())\n",
    "\n",
    "    data = [(r[\"test_\"+x].mean(), r[\"test_\"+x].std()) for x in rows]\n",
    "\n",
    "    print(col_format.format(\"\", *columns))\n",
    "    for name, row in zip(rows, data):\n",
    "        print(row_format.format(name, *row))\n",
    "\n",
    "    print()\n",
    "    print()\n"
   ]
  },
  {
   "cell_type": "code",
   "execution_count": null,
   "metadata": {},
   "outputs": [],
   "source": []
  }
 ]
}